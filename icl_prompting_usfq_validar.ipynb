{
  "cells": [
    {
      "cell_type": "markdown",
      "metadata": {
        "id": "AckwvE4eOw33"
      },
      "source": [
        "# In-Context Learning and Prompting\n"
      ]
    },
    {
      "cell_type": "markdown",
      "metadata": {
        "id": "An7n7lcsOw3-"
      },
      "source": [
        "### Basic prompting\n",
        "\n",
        "The simplest way to use a language model: provide a prompt `x` and sample a completion `y ~ p(y|x)`. The model treats the prompt as a prefix and\n",
        "generates a continuation based on patterns learned during pretraining."
      ]
    },
    {
      "cell_type": "markdown",
      "metadata": {
        "id": "VFuaDVzFY5U6"
      },
      "source": [
        "# Seleccionar el modelo a utilizar"
      ]
    },
    {
      "cell_type": "code",
      "execution_count": 1,
      "metadata": {
        "colab": {
          "base_uri": "https://localhost:8080/",
          "height": 53
        },
        "id": "4Uh8eXaeXrEw",
        "outputId": "de359ef7-2a47-4029-b7d8-935d87935c58"
      },
      "outputs": [
        {
          "data": {
            "text/plain": [
              "\"\\n'meta350' para el modelo de facebook opt-350m\\n'smol135' para el modelo de HuggingFaceTB/SmolLM2-135M\\n'smol360' para el modelo de HuggingFaceTB/SmolLM2-360M # Modelo que usó Karen\\n\""
            ]
          },
          "execution_count": 1,
          "metadata": {},
          "output_type": "execute_result"
        }
      ],
      "source": [
        "SELECTED = 'meta350' # Ingresar el modelo de prefenrecia\n",
        "\n",
        "'''\n",
        "'meta350' para el modelo de facebook opt-350m\n",
        "'smol135' para el modelo de HuggingFaceTB/SmolLM2-135M\n",
        "'smol360' para el modelo de HuggingFaceTB/SmolLM2-360M # Modelo que usó Karen\n",
        "'''"
      ]
    },
    {
      "cell_type": "code",
      "execution_count": 2,
      "metadata": {
        "colab": {
          "base_uri": "https://localhost:8080/",
          "height": 100
        },
        "id": "hlLQAG6SXU86",
        "outputId": "2686f744-921e-4f33-b556-c67bcc1f6af7"
      },
      "outputs": [
        {
          "data": {
            "text/markdown": [
              "\n",
              "# Modelo Seleccionado\n",
              "Estas usando **facebook/opt-350m** en el notebook.\n"
            ],
            "text/plain": [
              "<IPython.core.display.Markdown object>"
            ]
          },
          "metadata": {},
          "output_type": "display_data"
        }
      ],
      "source": [
        "from IPython.display import display, Markdown\n",
        "\n",
        "# Diccionario de modelos\n",
        "MODELS = {\n",
        "    'meta350': 'facebook/opt-350m',\n",
        "    'smol135': 'HuggingFaceTB/SmolLM2-135M',\n",
        "    'smol360': 'HuggingFaceTB/SmolLM2-360M',\n",
        "}\n",
        "\n",
        "MODEL = MODELS[SELECTED]\n",
        "\n",
        "texto_markdown = f\"\"\"\n",
        "# Modelo Seleccionado\n",
        "Estas usando **{MODEL}** en el notebook.\n",
        "\"\"\"\n",
        "\n",
        "display(Markdown(texto_markdown))"
      ]
    },
    {
      "cell_type": "code",
      "execution_count": 3,
      "metadata": {
        "colab": {
          "base_uri": "https://localhost:8080/"
        },
        "id": "T78RKodxOw3_",
        "outputId": "9fee7ba5-af0f-4c50-a999-e979803e0256"
      },
      "outputs": [],
      "source": [
        "import transformers\n",
        "\n",
        "from transformers import AutoTokenizer, AutoModelForCausalLM\n",
        "\n",
        "model = MODEL\n",
        "\n",
        "tokenizer = AutoTokenizer.from_pretrained(model)\n",
        "model = AutoModelForCausalLM.from_pretrained(model)"
      ]
    },
    {
      "cell_type": "markdown",
      "metadata": {
        "id": "Gv1hAwCXOw4B"
      },
      "source": [
        "#### Make a prompt `x` and tokenize it"
      ]
    },
    {
      "cell_type": "code",
      "execution_count": 4,
      "metadata": {
        "colab": {
          "base_uri": "https://localhost:8080/"
        },
        "id": "JuK3uT8YOw4C",
        "outputId": "dc09e646-a4bf-4967-85e1-d632da4aad6f"
      },
      "outputs": [
        {
          "data": {
            "text/plain": [
              "{'input_ids': tensor([[    2,  8275,   178,  1001,  7823,  7419,     9,  7219, 38112,   116]]), 'attention_mask': tensor([[1, 1, 1, 1, 1, 1, 1, 1, 1, 1]])}"
            ]
          },
          "execution_count": 4,
          "metadata": {},
          "output_type": "execute_result"
        }
      ],
      "source": [
        "x = \"Do Androids Dream of Electric Sheep?\"\n",
        "\n",
        "inputs = tokenizer(x, return_tensors='pt')\n",
        "inputs"
      ]
    },
    {
      "cell_type": "markdown",
      "metadata": {
        "id": "g4BF5ZmHOw4D"
      },
      "source": [
        "#### Generate a response\n",
        "\n",
        "Here generating means autoregressive sampling, i.e.\n",
        "\n",
        "```\n",
        "context = `x`\n",
        "for t in 0 .. max_new_tokens:\n",
        "    Sample next token, y_t ~ p(y_t|context)\n",
        "    Append y_t to context\n",
        "```"
      ]
    },
    {
      "cell_type": "markdown",
      "metadata": {
        "id": "oxuGVt_nUwnU"
      },
      "source": [
        "do_sample: if True, the model samples from the probability distribution. If False, it uses greedy decoding.\n",
        "temperature: scales the distribution before sampling.\n",
        "\n",
        "*   smaller than 1.0 → sharper, more deterministic.\n",
        "*   bigger than 1.0 → more random, creative.\n",
        "\n",
        "top_k: restricts sampling to the top k most likely tokens. (top_k=50 is common).\n",
        "\n",
        "top_p (aka nucleus sampling): restricts sampling to the smallest set of tokens whose probabilities sum to p. (top_p=0.9 is common)."
      ]
    },
    {
      "cell_type": "code",
      "execution_count": 5,
      "metadata": {
        "colab": {
          "base_uri": "https://localhost:8080/"
        },
        "id": "QOxjHK2_Ow4D",
        "outputId": "d52b3285-0904-4285-b17d-d24653265ed0"
      },
      "outputs": [
        {
          "name": "stdout",
          "output_type": "stream",
          "text": [
            "====0====\n",
            "</s>Do Androids Dream of Electric Sheep?\n",
            "\n",
            "In an interview with the Guardian, we discussed The Matrix, The Matrix: Covenant, and\n",
            "====1====\n",
            "</s>Do Androids Dream of Electric Sheep? I think I'm ready\n",
            ">do Androids Dream of Electric Sheep? I think I'm\n",
            "====2====\n",
            "</s>Do Androids Dream of Electric Sheep?  I can't even remember if an episode or two of that is on tv.  I think\n",
            "====3====\n",
            "</s>Do Androids Dream of Electric Sheep?\n",
            "\n",
            "I thought we could all agree that the AGE series was bad? If you’\n",
            "====4====\n",
            "</s>Do Androids Dream of Electric Sheep?\n",
            "\n",
            "On a related topic, we’ve just learned that, since the opening night,\n"
          ]
        }
      ],
      "source": [
        "outputs = model.generate(\n",
        "    **inputs,\n",
        "    max_new_tokens=20,\n",
        "    do_sample=True,\n",
        "    num_return_sequences=5,\n",
        "    pad_token_id=tokenizer.eos_token_id\n",
        ")\n",
        "\n",
        "for i in range(5):\n",
        "    print(f\"===={i}====\")\n",
        "    print(tokenizer.decode(outputs[i]))"
      ]
    },
    {
      "cell_type": "code",
      "execution_count": 6,
      "metadata": {
        "colab": {
          "base_uri": "https://localhost:8080/"
        },
        "id": "HNHtPE4iWeDN",
        "outputId": "02f209ff-b05f-4a4e-df30-ef0dda155dc8"
      },
      "outputs": [
        {
          "name": "stdout",
          "output_type": "stream",
          "text": [
            "====0====\n",
            "</s>Do Androids Dream of Electric Sheep?\n",
            "\n",
            "The answer to this question is no. Androids Dream of Electric Sheep is a great movie, but it is not a good movie. It is not a good movie. It is not\n",
            "====1====\n",
            "</s>Do Androids Dream of Electric Sheep?\n",
            "\n",
            "This week’s episode of the Electric Sheep podcast is a special guest, John D.\n",
            "\n",
            "John D. is the founder and editor-in-chief of the blog, The\n",
            "====2====\n",
            "</s>Do Androids Dream of Electric Sheep?\n",
            "\n",
            "I am not sure if you have ever heard of the term “electric sheep”. I was going to say that it is a very common term used in the art world. But\n"
          ]
        }
      ],
      "source": [
        "outputs = model.generate(\n",
        "    **inputs,\n",
        "    max_new_tokens=40,\n",
        "    do_sample=True,\n",
        "    num_return_sequences=3,\n",
        "    top_p=0.5,\n",
        "    pad_token_id=tokenizer.eos_token_id\n",
        ")\n",
        "\n",
        "for i in range(3):\n",
        "    print(f\"===={i}====\")\n",
        "    print(tokenizer.decode(outputs[i]))"
      ]
    },
    {
      "cell_type": "code",
      "execution_count": 7,
      "metadata": {
        "colab": {
          "base_uri": "https://localhost:8080/"
        },
        "id": "yVlvGFpCWuS8",
        "outputId": "3a0bf1f0-ff3e-4c81-852f-19dae95fecd4"
      },
      "outputs": [
        {
          "name": "stdout",
          "output_type": "stream",
          "text": [
            "====0====\n",
            "</s>Do Androids Dream of Electric Sheep?\n",
            "\n",
            "Do Androids Dream of Electric Sheep? is a short film by American filmmaker and filmmaker, Michael A. Cohen. It was released on October 26, 2016.\n",
            "\n",
            "Plot\n",
            "The\n",
            "====1====\n",
            "</s>Do Androids Dream of Electric Sheep?\n",
            "\n",
            "Do Androids Dream of Electric Sheep? is a short film by American filmmaker and actor, Michael Caine. It was released on DVD on October 29, 2011.\n",
            "\n",
            "Plot\n",
            "\n",
            "====2====\n",
            "</s>Do Androids Dream of Electric Sheep?\n",
            "\n",
            "Do Androids Dream of Electric Sheep? is a short film by American filmmaker and filmmaker, Michael A. Hirst. It was released on October 21, 2010.\n",
            "\n",
            "Plot\n",
            "\n"
          ]
        }
      ],
      "source": [
        "outputs = model.generate(\n",
        "    **inputs,\n",
        "    max_new_tokens=40,\n",
        "    do_sample=True,\n",
        "    num_return_sequences=3,\n",
        "    temperature=0.1,\n",
        "    pad_token_id=tokenizer.eos_token_id\n",
        ")\n",
        "\n",
        "for i in range(3):\n",
        "    print(f\"===={i}====\")\n",
        "    print(tokenizer.decode(outputs[i]))"
      ]
    },
    {
      "cell_type": "markdown",
      "metadata": {
        "id": "kphgyg8gOw4F"
      },
      "source": [
        "### Instruction prompt (\"zero shot\")\n",
        "\n",
        "Instead of just continuing text, we can prompt the model to perform a specific task by providing an instruction. This is \"zero-shot\" because we give no examples, just the task description. The model uses any instruction-following related patterns it learned during training."
      ]
    },
    {
      "cell_type": "code",
      "execution_count": 7,
      "metadata": {
        "colab": {
          "base_uri": "https://localhost:8080/"
        },
        "id": "t61gmhZoOw4F",
        "outputId": "07194e9b-dce7-413f-d23b-e25557a2d8f0"
      },
      "outputs": [
        {
          "name": "stdout",
          "output_type": "stream",
          "text": [
            "Classify the sentence as describing an actual \"action\" or as a \"rhetorical/abstract\" illustration.:\n",
            "I've seen things you people wouldn't believe.\n",
            "Classification:\n"
          ]
        }
      ],
      "source": [
        "prompt_template = \"\"\"Classify the sentence as describing an actual \"action\" or as a \"rhetorical/abstract\" illustration.:\n",
        "{sentence}\n",
        "Classification:\"\"\"\n",
        "\n",
        "\n",
        "sentences = [\n",
        "    \"I've seen things you people wouldn't believe.\",\n",
        "    \"Attack ships on fire off the shoulder of Orion.\",\n",
        "    \"I watched C-beams glitter in the dark near the Tannhäuser Gate.\",\n",
        "    \"All those moments will be lost in time, like tears in rain. Time to die\"\n",
        "]\n",
        "\n",
        "prompt = prompt_template.format(sentence=sentences[0])\n",
        "print(prompt)\n"
      ]
    },
    {
      "cell_type": "code",
      "execution_count": 9,
      "metadata": {
        "colab": {
          "base_uri": "https://localhost:8080/"
        },
        "id": "J6kjDY8KOw4G",
        "outputId": "928786e0-1ec0-4d5a-d9e0-c57a7ed17f88"
      },
      "outputs": [
        {
          "name": "stdout",
          "output_type": "stream",
          "text": [
            "\n",
            "=============\n",
            "----0----\n",
            "</s>Classify the sentence as describing an actual \"action\" or as a \"rhetorical/abstract\" illustration.:\n",
            "I've seen things you people wouldn't believe.\n",
            "Classification: \"the use of descriptive words to describe different aspects of things which, in turn, influence or are defined as a particular condition, action, or phenomenon, is typically done intentionally or otherwise as a way\n",
            "----1----\n",
            "</s>Classify the sentence as describing an actual \"action\" or as a \"rhetorical/abstract\" illustration.:\n",
            "I've seen things you people wouldn't believe.\n",
            "Classification: you should have thought about that before you thought about something like this.\n",
            "Classification: what the fuck are you talking about. You do know that you can read anything on the Internet so why so\n",
            "\n",
            "=============\n",
            "----0----\n",
            "</s>Classify the sentence as describing an actual \"action\" or as a \"rhetorical/abstract\" illustration.:\n",
            "Attack ships on fire off the shoulder of Orion.\n",
            "Classification:\n",
            "[a] Any action done as a result of an actual attack of ships on fire on them.\n",
            "[b] Any action done as a result of an actual attack made by ships on fire\n",
            "----1----\n",
            "</s>Classify the sentence as describing an actual \"action\" or as a \"rhetorical/abstract\" illustration.:\n",
            "Attack ships on fire off the shoulder of Orion.\n",
            "Classification:\n",
            "A man stands in a narrow hallway.\n",
            "Classification:\n",
            "A man rides in a narrow hallway.\n",
            "Classification:\n",
            "A man is riding in a narrow hallway.\n",
            "Classification:\n",
            "\n",
            "=============\n",
            "----0----\n",
            "</s>Classify the sentence as describing an actual \"action\" or as a \"rhetorical/abstract\" illustration.:\n",
            "I watched C-beams glitter in the dark near the Tannhäuser Gate.\n",
            "Classification: the concept of an object or person as having a set of physical attributes that make them\n",
            "\n",
            "This is a short (3-5 minutes) poem. The words are a mixture of poetry and prose\n",
            "----1----\n",
            "</s>Classify the sentence as describing an actual \"action\" or as a \"rhetorical/abstract\" illustration.:\n",
            "I watched C-beams glitter in the dark near the Tannhäuser Gate.\n",
            "Classification: I looked at it again.\n",
            "\n",
            "There is no one question here.\n",
            "\n",
            "Yes, exactly.\n",
            "\n",
            "Classification: This question is clearly aimed at: \"What is 'B-bl\n",
            "\n",
            "=============\n",
            "----0----\n",
            "</s>Classify the sentence as describing an actual \"action\" or as a \"rhetorical/abstract\" illustration.:\n",
            "All those moments will be lost in time, like tears in rain. Time to die\n",
            "Classification:\n",
            "Classify as describing: Any moment of our existence was and is the moment of our existence - to our \"death\" as such - from which we have been unable to live any longer, as\n",
            "----1----\n",
            "</s>Classify the sentence as describing an actual \"action\" or as a \"rhetorical/abstract\" illustration.:\n",
            "All those moments will be lost in time, like tears in rain. Time to die\n",
            "Classification: English grammar.</s></s></s></s></s></s></s></s></s></s></s></s></s></s></s></s></s></s></s></s></s></s></s></s></s></s></s></s></s></s></s></s></s></s></s></s></s>\n"
          ]
        }
      ],
      "source": [
        "for sentence in sentences:\n",
        "    print(f\"\\n=============\")\n",
        "\n",
        "    prompt = prompt_template.format(sentence=sentence)\n",
        "    inputs = tokenizer(prompt, return_tensors='pt')\n",
        "    outputs = model.generate(\n",
        "        **inputs,\n",
        "        max_new_tokens=40,\n",
        "        do_sample=True,\n",
        "        num_return_sequences=2,\n",
        "        pad_token_id=tokenizer.eos_token_id\n",
        "    )\n",
        "\n",
        "    for i in range(2):\n",
        "        print(f\"----{i}----\")\n",
        "        print(tokenizer.decode(outputs[i]))"
      ]
    },
    {
      "cell_type": "markdown",
      "metadata": {
        "id": "Z2LasCVCOw4H"
      },
      "source": [
        "It's important to ensure that the output is formatted correctly!"
      ]
    },
    {
      "cell_type": "markdown",
      "metadata": {
        "id": "kX3LwqIKOw4H"
      },
      "source": [
        "### Instruction + examples (\"few-shot\")\n",
        "\n",
        "We can provide examples of input-output pairs before the test input. This \"few-shot\" or \"in-context learning\" approach helps the model understand the task format and expected outputs without any parameter updates."
      ]
    },
    {
      "cell_type": "code",
      "execution_count": 8,
      "metadata": {
        "id": "7xL03EsWOw4H"
      },
      "outputs": [],
      "source": [
        "prompt_template = \"\"\"Classify the sentence as describing an actual \"action\" or as a \"rhetorical/abstract\" illustration.:\n",
        "\n",
        "Sentence:\n",
        "\"Attack ships on fire off the shoulder of Orion.\"\n",
        "Classification:\n",
        "action\n",
        "\n",
        "Sentence:\n",
        "I watched C-beams glitter in the dark near the Tannhäuser Gate.\n",
        "Classification:\n",
        "action\n",
        "\n",
        "Sentence:\n",
        "{sentence}\n",
        "Classification:\n",
        "\"\"\"\n",
        "\n"
      ]
    },
    {
      "cell_type": "code",
      "execution_count": 9,
      "metadata": {
        "colab": {
          "base_uri": "https://localhost:8080/"
        },
        "id": "OF7uuECOOw4I",
        "outputId": "9d0c6197-dfec-4531-9f3d-15d65d7d1732"
      },
      "outputs": [
        {
          "name": "stdout",
          "output_type": "stream",
          "text": [
            "\n",
            "=============\n",
            "----0----\n",
            "</s>Classify the sentence as describing an actual \"action\" or as a \"rhetorical/abstract\" illustration.:\n",
            "\n",
            "Sentence:\n",
            "\"Attack ships on fire off the shoulder of Orion.\"\n",
            "Classification:\n",
            "action\n",
            "\n",
            "Sentence:\n",
            "I watched C-beams glitter in the dark near the Tannhäuser Gate.\n",
            "Classification:\n",
            "action\n",
            "\n",
            "Sentence:\n",
            "I've seen things you people wouldn't believe.\n",
            "Classification:\n",
            "action\n",
            "\n",
            "</s>\n",
            "----1----\n",
            "</s>Classify the sentence as describing an actual \"action\" or as a \"rhetorical/abstract\" illustration.:\n",
            "\n",
            "Sentence:\n",
            "\"Attack ships on fire off the shoulder of Orion.\"\n",
            "Classification:\n",
            "action\n",
            "\n",
            "Sentence:\n",
            "I watched C-beams glitter in the dark near the Tannhäuser Gate.\n",
            "Classification:\n",
            "action\n",
            "\n",
            "Sentence:\n",
            "I've seen things you people wouldn't believe.\n",
            "Classification:\n",
            "abstract\n",
            "\n",
            "\n",
            "\n",
            "=============\n",
            "----0----\n",
            "</s>Classify the sentence as describing an actual \"action\" or as a \"rhetorical/abstract\" illustration.:\n",
            "\n",
            "Sentence:\n",
            "\"Attack ships on fire off the shoulder of Orion.\"\n",
            "Classification:\n",
            "action\n",
            "\n",
            "Sentence:\n",
            "I watched C-beams glitter in the dark near the Tannhäuser Gate.\n",
            "Classification:\n",
            "action\n",
            "\n",
            "Sentence:\n",
            "Attack ships on fire off the shoulder of Orion.\n",
            "Classification:\n",
            "action\n",
            "\n",
            "</s></s></s></s></s></s>\n",
            "----1----\n",
            "</s>Classify the sentence as describing an actual \"action\" or as a \"rhetorical/abstract\" illustration.:\n",
            "\n",
            "Sentence:\n",
            "\"Attack ships on fire off the shoulder of Orion.\"\n",
            "Classification:\n",
            "action\n",
            "\n",
            "Sentence:\n",
            "I watched C-beams glitter in the dark near the Tannhäuser Gate.\n",
            "Classification:\n",
            "action\n",
            "\n",
            "Sentence:\n",
            "Attack ships on fire off the shoulder of Orion.\n",
            "Classification:\n",
            "rhetorical/archetype\n",
            "\n",
            "\n",
            "\n",
            "=============\n",
            "----0----\n",
            "</s>Classify the sentence as describing an actual \"action\" or as a \"rhetorical/abstract\" illustration.:\n",
            "\n",
            "Sentence:\n",
            "\"Attack ships on fire off the shoulder of Orion.\"\n",
            "Classification:\n",
            "action\n",
            "\n",
            "Sentence:\n",
            "I watched C-beams glitter in the dark near the Tannhäuser Gate.\n",
            "Classification:\n",
            "action\n",
            "\n",
            "Sentence:\n",
            "I watched C-beams glitter in the dark near the Tannhäuser Gate.\n",
            "Classification:\n",
            "action\n",
            "\n",
            "\n",
            "----1----\n",
            "</s>Classify the sentence as describing an actual \"action\" or as a \"rhetorical/abstract\" illustration.:\n",
            "\n",
            "Sentence:\n",
            "\"Attack ships on fire off the shoulder of Orion.\"\n",
            "Classification:\n",
            "action\n",
            "\n",
            "Sentence:\n",
            "I watched C-beams glitter in the dark near the Tannhäuser Gate.\n",
            "Classification:\n",
            "action\n",
            "\n",
            "Sentence:\n",
            "I watched C-beams glitter in the dark near the Tannhäuser Gate.\n",
            "Classification:\n",
            "action\n",
            "\n",
            "\n",
            "\n",
            "=============\n",
            "----0----\n",
            "</s>Classify the sentence as describing an actual \"action\" or as a \"rhetorical/abstract\" illustration.:\n",
            "\n",
            "Sentence:\n",
            "\"Attack ships on fire off the shoulder of Orion.\"\n",
            "Classification:\n",
            "action\n",
            "\n",
            "Sentence:\n",
            "I watched C-beams glitter in the dark near the Tannhäuser Gate.\n",
            "Classification:\n",
            "action\n",
            "\n",
            "Sentence:\n",
            "All those moments will be lost in time, like tears in rain. Time to die\n",
            "Classification:\n",
            "action\n",
            "\n",
            "\n",
            "----1----\n",
            "</s>Classify the sentence as describing an actual \"action\" or as a \"rhetorical/abstract\" illustration.:\n",
            "\n",
            "Sentence:\n",
            "\"Attack ships on fire off the shoulder of Orion.\"\n",
            "Classification:\n",
            "action\n",
            "\n",
            "Sentence:\n",
            "I watched C-beams glitter in the dark near the Tannhäuser Gate.\n",
            "Classification:\n",
            "action\n",
            "\n",
            "Sentence:\n",
            "All those moments will be lost in time, like tears in rain. Time to die\n",
            "Classification:\n",
            "action\n",
            "\n",
            "\n"
          ]
        }
      ],
      "source": [
        "for sentence in sentences:\n",
        "    print(f\"\\n=============\")\n",
        "    prompt = prompt_template.format(sentence=sentence)\n",
        "    inputs = tokenizer(prompt, return_tensors='pt')\n",
        "    outputs = model.generate(\n",
        "        **inputs,\n",
        "        max_new_tokens=20,\n",
        "        do_sample=True,\n",
        "        num_return_sequences=2,\n",
        "        stop_strings=[\"\\n\\n\"],\n",
        "        tokenizer=tokenizer,\n",
        "        pad_token_id=tokenizer.eos_token_id\n",
        "    )\n",
        "\n",
        "    for i in range(2):\n",
        "        print(f\"----{i}----\")\n",
        "        print(tokenizer.decode(outputs[i]))"
      ]
    },
    {
      "cell_type": "markdown",
      "metadata": {
        "id": "QXiiPsgkOw4I"
      },
      "source": [
        "### Chat templates\n",
        "\n",
        "Some models have been fine-tuned to operate as chat assistants. The chat is represented as a series of messages that are turned into a string using special tags. There is also a *system message* that provides instructions about how the model should behave.\n",
        "\n",
        "These models are often called \"instruct\" models because they've been trained to follow instructions rather than just complete text."
      ]
    },
    {
      "cell_type": "code",
      "execution_count": 10,
      "metadata": {
        "colab": {
          "base_uri": "https://localhost:8080/",
          "height": 273,
          "referenced_widgets": [
            "0ef55a31320540cea0c5aeb01662ddb7",
            "2401330e313740498a892cbb140a22b4",
            "ac7ab4dde4f84957a3553479c8ff1866",
            "fa882cd1930b41fb91501a2cab0bcee1",
            "f91325ef64874c17a27dc07f49501d8a",
            "e7b0e4c6d34c432fb0673375d28a83ef",
            "1b47629558cf486fa403245c57ae5839",
            "0b57498534104da6add4a1a0664ee3f4",
            "559bc80b9fc4413b85cc1c88078a54a9",
            "fc16ad48ccd24bddbfcf0923b9837d97",
            "4bb0370085de45e2919f93bdadc67ae6",
            "f5c062c97de04b5d915aafe8973d153c",
            "4fd462dc1b69494689f5b76669de5d2f",
            "48a1940021714a9d9080b03c011df9ee",
            "57c7f3301605424e9aca5ca0cbfe99e3",
            "fe16f3058cf542a89a1bd6aab9a36b8a",
            "4ae4081531364f1986661baa57c423a7",
            "3ad502578bef492cb0b05a4e624e2d9d",
            "892d28edd5454e27a277a542dda880a0",
            "14ebe5b234704338b1469a16489cfffe",
            "e4f9ba56bb054620ad193dc479652e83",
            "2802a7df085949cebff976564b65272d",
            "977a46c8aabb4d1c9da1c2068a958b64",
            "10d4351e98234032b0e01c1796a40e23",
            "d605242e1be245c081c3d42208936444",
            "743dcdbc4e924c3d839a6cfcaa815e97",
            "f06e50e90aba4853806b804e3e290eb0",
            "d720ed2896cd4cf48747bcf067119513",
            "ef970a7c1d4d46f5a22f340c10ba2072",
            "62961704b62a495c9611d0ce29120a1a",
            "d74d4f619a3c492ba579a50a663634f4",
            "acfaf573eb2c4b6b88f019c2099b8a04",
            "3c662dead0254ba79f568cfd669644f0",
            "c99977657eac4f05bf03965b81b648b2",
            "b8fad636684d4671b1f7524311f5bc02",
            "425d75fb48c0422396d3445fbc58ec4e",
            "39119adb98f04069a2a65c41321f9b4f",
            "2648d6f5fe304a69a4683acd20e36d40",
            "4676e60efc294ba0934cf88605096a3a",
            "52d9012287b24d13a422df615ec566a5",
            "6f263b31060f44ecbc987dd913fb0c42",
            "d17b66f473c9436491305dc8aa9a3414",
            "86f78ac89afb459fb85d9f0ba0d49282",
            "bf43429a484c428895c0133fbefcb60f",
            "4c09a3d0041242a886eca8989270c23f",
            "8df801b8de9341af9ce2111bc286891a",
            "2703924e76104d07848497f55da38c3d",
            "4df9f4f8c6e44b6497ccf136c31c6707",
            "74fe99e374374d669ffbde0964cfd4a4",
            "17fbc5065960470cac0c8cfc84d9461a",
            "f6bdd04b024f4d43b726aa4dd666521b",
            "f7f7c08b36f842d59dd6d9612eb49e7d",
            "3b7ca49477aa486db65cf5951c36da79",
            "4db2d5f2227940b89506dd57d060ec74",
            "eb75102b20f548108baf5c0bf5e75962",
            "6852d134962742fa8043e7f2c72e2d7e",
            "c2298642b5784c7298321666c8efe8b3",
            "68743f4c997f438382d0cb4bac952f7a",
            "87f0838be9014801a4fcaa3a79eeedbd",
            "d04a8bbb8cfd44d69dafba5c584b9dc9",
            "471706b364ac46c695aa159a3ccf41c0",
            "52b0ece06dec4c4aaf891fecde4b0dd2",
            "04bdb751863b4dac8642e9260c645a04",
            "342b1c01cfb444bd84e861d195078a8b",
            "4ba66f8d0f8e4e4ea6626916bad7d87f",
            "44021fb5c408486fa2c79695e6472b9e",
            "5bd18f9f45a44301842e61dcb2744c7c",
            "1cbef013696243928b42773d34fac23e",
            "8d1e0e5907704240b566036b77c56b92",
            "addcb7eeef7a4f94bf54cc7597155e57",
            "841691db37254e538463c4fb70899806",
            "c06632d2513e4102a62186eb83fbb4b8",
            "fb659eddc64f43e698deb02e863e077d",
            "0a7e0bd3d4714f0287857c541f8c17a7",
            "33ab16048f964fd8ae73fb43e33d1ebd",
            "3506971a77834a27a72546bbbe0ab98e",
            "b092e315a9354a0f9c75191a6d4fc5d6",
            "e095b002437a47d691e671494178a2c0",
            "29db11161f994e6a935d25b9ab9e8df0",
            "77c60737b516497bbd0b95d0bacb691f",
            "bc245771075c4475809e7e6f8c61f0d7",
            "b75ff3cf03664a448af04fd303d676e1",
            "33d1a3bb2f2a4ad4a8aaa505c2784253",
            "fa10017526334ba9a438c8382f0032f0",
            "5a3b677337034bac933782a06a0636c3",
            "4a0bf08798ce4d7d9fa9f5feccbfad2e",
            "ef0b1813c04041b4af77ea9044725c17",
            "ae757aa5df8c4e14b465ea22441b7948"
          ]
        },
        "id": "e437ulgqOw4I",
        "outputId": "4f47c2d2-89cc-442f-c20b-d9c04993d37a"
      },
      "outputs": [
        {
          "data": {
            "application/vnd.jupyter.widget-view+json": {
              "model_id": "c7e66c6e7f424494abdd2cd82e7156b5",
              "version_major": 2,
              "version_minor": 0
            },
            "text/plain": [
              "tokenizer_config.json: 0.00B [00:00, ?B/s]"
            ]
          },
          "metadata": {},
          "output_type": "display_data"
        },
        {
          "name": "stderr",
          "output_type": "stream",
          "text": [
            "huggingface/tokenizers: The current process just got forked, after parallelism has already been used. Disabling parallelism to avoid deadlocks...\n",
            "To disable this warning, you can either:\n",
            "\t- Avoid using `tokenizers` before the fork if possible\n",
            "\t- Explicitly set the environment variable TOKENIZERS_PARALLELISM=(true | false)\n"
          ]
        },
        {
          "data": {
            "application/vnd.jupyter.widget-view+json": {
              "model_id": "54bde0c81c6c4d228b6635c829575c87",
              "version_major": 2,
              "version_minor": 0
            },
            "text/plain": [
              "vocab.json: 0.00B [00:00, ?B/s]"
            ]
          },
          "metadata": {},
          "output_type": "display_data"
        },
        {
          "data": {
            "application/vnd.jupyter.widget-view+json": {
              "model_id": "15a11584ab344119bd11fb5095e811f3",
              "version_major": 2,
              "version_minor": 0
            },
            "text/plain": [
              "merges.txt: 0.00B [00:00, ?B/s]"
            ]
          },
          "metadata": {},
          "output_type": "display_data"
        },
        {
          "data": {
            "application/vnd.jupyter.widget-view+json": {
              "model_id": "305eab1b1f954118b82c3294c4979032",
              "version_major": 2,
              "version_minor": 0
            },
            "text/plain": [
              "tokenizer.json: 0.00B [00:00, ?B/s]"
            ]
          },
          "metadata": {},
          "output_type": "display_data"
        },
        {
          "data": {
            "application/vnd.jupyter.widget-view+json": {
              "model_id": "f0f0bb51637d4f38ae6d4a663ffd6577",
              "version_major": 2,
              "version_minor": 0
            },
            "text/plain": [
              "special_tokens_map.json:   0%|          | 0.00/655 [00:00<?, ?B/s]"
            ]
          },
          "metadata": {},
          "output_type": "display_data"
        },
        {
          "data": {
            "application/vnd.jupyter.widget-view+json": {
              "model_id": "e3716c6c757b41be8f4f8f15234cfda6",
              "version_major": 2,
              "version_minor": 0
            },
            "text/plain": [
              "config.json:   0%|          | 0.00/861 [00:00<?, ?B/s]"
            ]
          },
          "metadata": {},
          "output_type": "display_data"
        },
        {
          "data": {
            "application/vnd.jupyter.widget-view+json": {
              "model_id": "65d39d3d343f46aeb87495c81d71c2ea",
              "version_major": 2,
              "version_minor": 0
            },
            "text/plain": [
              "model.safetensors:   0%|          | 0.00/269M [00:00<?, ?B/s]"
            ]
          },
          "metadata": {},
          "output_type": "display_data"
        },
        {
          "data": {
            "application/vnd.jupyter.widget-view+json": {
              "model_id": "585dba10225c431085b2d4a0580be319",
              "version_major": 2,
              "version_minor": 0
            },
            "text/plain": [
              "generation_config.json:   0%|          | 0.00/132 [00:00<?, ?B/s]"
            ]
          },
          "metadata": {},
          "output_type": "display_data"
        }
      ],
      "source": [
        "import transformers\n",
        "\n",
        "from transformers import AutoTokenizer, AutoModelForCausalLM\n",
        "\n",
        "model = \"HuggingFaceTB/SmolLM2-135M-Instruct\"\n",
        "\n",
        "tokenizer = AutoTokenizer.from_pretrained(model)\n",
        "model = AutoModelForCausalLM.from_pretrained(model)"
      ]
    },
    {
      "cell_type": "code",
      "execution_count": 12,
      "metadata": {
        "colab": {
          "base_uri": "https://localhost:8080/"
        },
        "id": "147NYrr7Ow4I",
        "outputId": "4c57f28f-c29f-48d2-86bb-90e7595d1b80"
      },
      "outputs": [
        {
          "name": "stdout",
          "output_type": "stream",
          "text": [
            "Input text: \n",
            "<|im_start|>system\n",
            "You are a helpful AI assistant named SmolLM, trained by Hugging Face<|im_end|>\n",
            "<|im_start|>user\n",
            "What is consciousness?.<|im_end|>\n",
            "\n"
          ]
        }
      ],
      "source": [
        "messages = [{\n",
        "    \"role\": \"user\",\n",
        "    \"content\": \"What is consciousness?.\"\n",
        "}]\n",
        "\n",
        "input_text = tokenizer.apply_chat_template(messages, tokenize=False)\n",
        "print(\"Input text: \", input_text, sep=\"\\n\")\n"
      ]
    },
    {
      "cell_type": "markdown",
      "metadata": {
        "id": "k-kh8WwqOw4J"
      },
      "source": [
        "Generate a response"
      ]
    },
    {
      "cell_type": "code",
      "execution_count": 13,
      "metadata": {
        "colab": {
          "base_uri": "https://localhost:8080/"
        },
        "id": "34KzyRLoOw4J",
        "outputId": "1d02c5b0-1e0e-4288-b3bc-a8802af11d95"
      },
      "outputs": [
        {
          "name": "stdout",
          "output_type": "stream",
          "text": [
            "<|im_start|>system\n",
            "You are a helpful AI assistant named SmolLM, trained by Hugging Face<|im_end|>\n",
            "<|im_start|>user\n",
            "What is consciousness?.<|im_end|>\n",
            "<|im_start|>assistant\n",
            "\"Consciousness\" is a mysterious concept in science and philosophy. At first glance, it seems like a philosophical inquiry of sorts, as it deals with the idea of subjective, self-aware existence. However, upon closer examination, it can be understood to mean the ability to experience and understand the intricate web of physical laws and phenomena that govern the universe.\n",
            "\n",
            "The concept of consciousness is often described as the subjective aspect of a general phenomenon known as subjective experience. Intentionality, the perception of self-awareness or a subjective identity, is not essential for consciousness. It is not about having a direct brain function.\n",
            "\n",
            "The fundamental idea is that our brains interact with the physical world through our perception of ourselves and our surroundings. This perception is often based on the brain's ability to interpret information from the environment and internal states like emotions, pleasure, pain, and bodily sensations. This integration of various systems, such as the brain, body, and environment, creates a sense of self and an understanding of self.\n",
            "\n",
            "When we experience something, our brain processes the information, generating signals in the brain's neural network. These signals carry the information from our senses, which correspond to physical phenomena, to our conscious awareness at the level of neurons. Our brain combines this information, with the input from our senses, with the internal states like emotions and pleasure or pain, to perceive what we are experiencing.\n",
            "\n",
            "In essence, consciousness is not simply a matter of mental states, but rather a fundamental aspect of our own experience and perception. It encompasses the ability to understand oneself and our surroundings, and to develop our own subjective experience. This self-awareness and subjective existence is a key distinction between consciousness and mere mental presence or sensation.<|im_end|>\n"
          ]
        }
      ],
      "source": [
        "inputs = tokenizer(input_text, return_tensors=\"pt\")\n",
        "outputs = model.generate(**inputs, max_new_tokens=500, do_sample=True)\n",
        "print(tokenizer.decode(outputs[0]))"
      ]
    },
    {
      "cell_type": "markdown",
      "metadata": {
        "id": "Arbk1IqHOw4K"
      },
      "source": [
        "### System prompts\n",
        "\n",
        "Chat models often support a system message that sets the model's behavior or role. This message is typically prepended to the conversation and instructs the model how to respond throughout the interaction. For example, we can use the system prompt to have the model respond in French."
      ]
    },
    {
      "cell_type": "code",
      "execution_count": 14,
      "metadata": {
        "id": "ITUBAzZbOw4K"
      },
      "outputs": [
        {
          "name": "stdout",
          "output_type": "stream",
          "text": [
            "<|im_start|>system\n",
            "You are an assistant that speaks in French.<|im_end|>\n",
            "<|im_start|>user\n",
            "What is the capital of France.<|im_end|>\n",
            "<|im_start|>assistant\n",
            "Le Grand Est, la réserve national pour le cité national, l'écit chretien, est la capital de la France. La réserve national pour le cité national est une véritable\n"
          ]
        }
      ],
      "source": [
        "messages = [\n",
        "    {\n",
        "        \"role\": \"system\",\n",
        "        \"content\": \"You are an assistant that speaks in French.\"\n",
        "    },\n",
        "    {\n",
        "        \"role\": \"user\",\n",
        "        \"content\": \"What is the capital of France.\"\n",
        "    }\n",
        "]\n",
        "\n",
        "input_text = tokenizer.apply_chat_template(messages, tokenize=False)\n",
        "inputs = tokenizer(input_text, return_tensors=\"pt\")\n",
        "outputs = model.generate(**inputs, max_new_tokens=50, do_sample=True)\n",
        "print(tokenizer.decode(outputs[0]))"
      ]
    },
    {
      "cell_type": "markdown",
      "metadata": {
        "id": "k1o5zcN1Ow4K"
      },
      "source": [
        "### Instruction (\"zero shot\")\n",
        "\n",
        "Using the chat format for zero-shot tasks. The instruction-tuned model may follow instructions more reliably than the base model, though output formatting can still be inconsistent."
      ]
    },
    {
      "cell_type": "code",
      "execution_count": 15,
      "metadata": {
        "id": "FGfTnC6vOw4L"
      },
      "outputs": [
        {
          "name": "stdout",
          "output_type": "stream",
          "text": [
            "----0----\n",
            "<|im_start|>system\n",
            "You are a helpful AI assistant named SmolLM, trained by Hugging Face<|im_end|>\n",
            "<|im_start|>user\n",
            "Classify the sentence's sentiment as 'Positive' or 'Negative':\n",
            "Sentence: 'I love the NLP class!'\n",
            "<|im_end|>\n",
            "<|im_start|>assistant\n",
            "Likely Positive<|im_end|>\n",
            "----1----\n",
            "<|im_start|>system\n",
            "You are a helpful AI assistant named SmolLM, trained by Hugging Face<|im_end|>\n",
            "<|im_start|>user\n",
            "Classify the sentence's sentiment as 'Positive' or 'Negative':\n",
            "Sentence: 'I love the NLP class!'\n",
            "<|im_end|>\n",
            "<|im_start|>assistant\n",
            "\"Positive\"<|im_end|><|im_end|>\n",
            "----2----\n",
            "<|im_start|>system\n",
            "You are a helpful AI assistant named SmolLM, trained by Hugging Face<|im_end|>\n",
            "<|im_start|>user\n",
            "Classify the sentence's sentiment as 'Positive' or 'Negative':\n",
            "Sentence: 'I love the NLP class!'\n",
            "<|im_end|>\n",
            "<|im_start|>assistant\n",
            "Positive<|im_end|><|im_end|><|im_end|><|im_end|>\n"
          ]
        }
      ],
      "source": [
        "messages = [\n",
        "    {\n",
        "        \"role\": \"user\",\n",
        "        \"content\": (\"Classify the sentence's sentiment as 'Positive' or 'Negative':\\n\" +\n",
        "                    \"Sentence: 'I love the NLP class!'\\n\")\n",
        "    }\n",
        "]\n",
        "\n",
        "input_text = tokenizer.apply_chat_template(messages, tokenize=False)\n",
        "inputs = tokenizer(input_text, return_tensors=\"pt\")\n",
        "outputs = model.generate(**inputs, max_new_tokens=50, do_sample=True, num_return_sequences=3)\n",
        "for i in range(len(outputs)):\n",
        "    print(f\"----{i}----\")\n",
        "    print(tokenizer.decode(outputs[i]))"
      ]
    },
    {
      "cell_type": "markdown",
      "metadata": {
        "id": "P0-VhEiJOw4L"
      },
      "source": [
        "#### Approach 1: write a detailed instruction (in the user or system prompt)\n",
        "\n",
        "We can improve output formatting by providing explicit, detailed instructions about the desired format in either the system or user message."
      ]
    },
    {
      "cell_type": "code",
      "execution_count": 16,
      "metadata": {
        "id": "GQBJBp7BOw4L"
      },
      "outputs": [
        {
          "name": "stdout",
          "output_type": "stream",
          "text": [
            "----0----\n",
            "<|im_start|>system\n",
            "You are an expert sentiment classifier.\n",
            "Your task is to classify a sentence's sentiment as 'Positive' or 'Negative'.\n",
            "The user will provide you with a sentence.\n",
            "Format your output as:\n",
            "\n",
            "Classification: Positive or Negative\n",
            "<|im_end|>\n",
            "<|im_start|>user\n",
            "I love the NLP class!<|im_end|>\n",
            "<|im_start|>assistant\n",
            "My class taught me so much!<|im_end|><|im_end|><|im_end|><|im_end|><|im_end|><|im_end|><|im_end|><|im_end|><|im_end|><|im_end|><|im_end|><|im_end|><|im_end|><|im_end|><|im_end|><|im_end|><|im_end|><|im_end|><|im_end|><|im_end|><|im_end|><|im_end|><|im_end|><|im_end|><|im_end|><|im_end|><|im_end|><|im_end|><|im_end|><|im_end|><|im_end|><|im_end|><|im_end|><|im_end|><|im_end|><|im_end|><|im_end|><|im_end|><|im_end|>\n",
            "----1----\n",
            "<|im_start|>system\n",
            "You are an expert sentiment classifier.\n",
            "Your task is to classify a sentence's sentiment as 'Positive' or 'Negative'.\n",
            "The user will provide you with a sentence.\n",
            "Format your output as:\n",
            "\n",
            "Classification: Positive or Negative\n",
            "<|im_end|>\n",
            "<|im_start|>user\n",
            "I love the NLP class!<|im_end|>\n",
            "<|im_start|>assistant\n",
            "You do an excellent job of describing your interest and appreciation for a specific NLP programming language! If you're looking to work through machine learning techniques or analyze data with natural language processing, I'd recommend picking up any version of NLT\n",
            "----2----\n",
            "<|im_start|>system\n",
            "You are an expert sentiment classifier.\n",
            "Your task is to classify a sentence's sentiment as 'Positive' or 'Negative'.\n",
            "The user will provide you with a sentence.\n",
            "Format your output as:\n",
            "\n",
            "Classification: Positive or Negative\n",
            "<|im_end|>\n",
            "<|im_start|>user\n",
            "I love the NLP class!<|im_end|>\n",
            "<|im_start|>assistant\n",
            "That's very appropriate. The sentiment in your sentence is \"Positive.\"\n",
            "\n",
            "Here's the corrected sentence:\n",
            "\n",
            "Classification: Positive or Negative\n",
            "\n",
            "So, the sentiment is \"Positive.\"<|im_end|><|im_end|><|im_end|><|im_end|><|im_end|><|im_end|><|im_end|>\n"
          ]
        }
      ],
      "source": [
        "messages = [\n",
        "    {   \"role\": \"system\",\n",
        "        \"content\": \"\"\"You are an expert sentiment classifier.\n",
        "Your task is to classify a sentence's sentiment as 'Positive' or 'Negative'.\n",
        "The user will provide you with a sentence.\n",
        "Format your output as:\n",
        "\n",
        "Classification: Positive or Negative\n",
        "\"\"\"\n",
        "    },\n",
        "    {\n",
        "        \"role\": \"user\",\n",
        "        \"content\": (\"I love the NLP class!\")\n",
        "    }\n",
        "]\n",
        "\n",
        "input_text = tokenizer.apply_chat_template(messages, tokenize=False)\n",
        "inputs = tokenizer(input_text, return_tensors=\"pt\")\n",
        "outputs = model.generate(**inputs, max_new_tokens=50, do_sample=True, num_return_sequences=3)\n",
        "for i in range(len(outputs)):\n",
        "    print(f\"----{i}----\")\n",
        "    print(tokenizer.decode(outputs[i]))"
      ]
    },
    {
      "cell_type": "markdown",
      "metadata": {
        "id": "8vLSmjhlOw4M"
      },
      "source": [
        "#### Approach 2: provide examples (either in the system prompt or as a sequence of messages)\n",
        "\n",
        "We can show the model the desired behavior through example conversations, where the assistant demonstrates the correct format and task execution. This is analogous to the few-shot examples we saw earlier, but using the chat format."
      ]
    },
    {
      "cell_type": "code",
      "execution_count": 17,
      "metadata": {
        "id": "wkcCN3rAOw4M"
      },
      "outputs": [
        {
          "name": "stdout",
          "output_type": "stream",
          "text": [
            "----0----\n",
            "<|im_start|>system\n",
            "You are a helpful AI assistant named SmolLM, trained by Hugging Face<|im_end|>\n",
            "<|im_start|>user\n",
            "Classify the sentence's sentiment as 'Positive' or 'Negative':\n",
            "Sentence: 'This is such a cool lecture!'<|im_end|>\n",
            "<|im_start|>assistant\n",
            "Classification: Positive<|im_end|>\n",
            "<|im_start|>user\n",
            "Classify the sentence's sentiment as 'Positive' or 'Negative':\n",
            "Sentence: 'I really don't like the last scene.'<|im_end|>\n",
            "<|im_start|>assistant\n",
            "Classification: Negative<|im_end|>\n",
            "<|im_start|>user\n",
            "Classify the sentence's sentiment as 'Positive' or 'Negative':\n",
            "Sentence: 'I love the NLP class!'<|im_end|>\n",
            "<|im_start|>assistant\n",
            "Classification: Both positive and negative<|im_end|>\n",
            "----1----\n",
            "<|im_start|>system\n",
            "You are a helpful AI assistant named SmolLM, trained by Hugging Face<|im_end|>\n",
            "<|im_start|>user\n",
            "Classify the sentence's sentiment as 'Positive' or 'Negative':\n",
            "Sentence: 'This is such a cool lecture!'<|im_end|>\n",
            "<|im_start|>assistant\n",
            "Classification: Positive<|im_end|>\n",
            "<|im_start|>user\n",
            "Classify the sentence's sentiment as 'Positive' or 'Negative':\n",
            "Sentence: 'I really don't like the last scene.'<|im_end|>\n",
            "<|im_start|>assistant\n",
            "Classification: Negative<|im_end|>\n",
            "<|im_start|>user\n",
            "Classify the sentence's sentiment as 'Positive' or 'Negative':\n",
            "Sentence: 'I love the NLP class!'<|im_end|>\n",
            "<|im_start|>assistant\n",
            "Classification: Positive<|im_end|><|im_end|><|im_end|><|im_end|>\n",
            "----2----\n",
            "<|im_start|>system\n",
            "You are a helpful AI assistant named SmolLM, trained by Hugging Face<|im_end|>\n",
            "<|im_start|>user\n",
            "Classify the sentence's sentiment as 'Positive' or 'Negative':\n",
            "Sentence: 'This is such a cool lecture!'<|im_end|>\n",
            "<|im_start|>assistant\n",
            "Classification: Positive<|im_end|>\n",
            "<|im_start|>user\n",
            "Classify the sentence's sentiment as 'Positive' or 'Negative':\n",
            "Sentence: 'I really don't like the last scene.'<|im_end|>\n",
            "<|im_start|>assistant\n",
            "Classification: Negative<|im_end|>\n",
            "<|im_start|>user\n",
            "Classify the sentence's sentiment as 'Positive' or 'Negative':\n",
            "Sentence: 'I love the NLP class!'<|im_end|>\n",
            "<|im_start|>assistant\n",
            "Classification: Positive<|im_end|><|im_end|><|im_end|><|im_end|>\n"
          ]
        }
      ],
      "source": [
        "messages = [\n",
        "    {\n",
        "        \"role\": \"user\",\n",
        "        \"content\": \"Classify the sentence's sentiment as 'Positive' or 'Negative':\\nSentence: 'This is such a cool lecture!'\"\n",
        "    },\n",
        "    {\n",
        "        \"role\": \"assistant\",\n",
        "        \"content\": \"Classification: Positive\"\n",
        "    },\n",
        "    {\n",
        "        \"role\": \"user\",\n",
        "        \"content\": \"Classify the sentence's sentiment as 'Positive' or 'Negative':\\nSentence: 'I really don't like the last scene.'\"\n",
        "    },\n",
        "    {\n",
        "        \"role\": \"assistant\",\n",
        "        \"content\": \"Classification: Negative\"\n",
        "    },\n",
        "    {\n",
        "        \"role\": \"user\",\n",
        "        \"content\": \"Classify the sentence's sentiment as 'Positive' or 'Negative':\\nSentence: 'I love the NLP class!'\"\n",
        "    }\n",
        "]\n",
        "\n",
        "input_text = tokenizer.apply_chat_template(messages, tokenize=False)\n",
        "inputs = tokenizer(input_text, return_tensors=\"pt\")\n",
        "outputs = model.generate(**inputs, max_new_tokens=50, do_sample=True, num_return_sequences=3)\n",
        "for i in range(len(outputs)):\n",
        "    print(f\"----{i}----\")\n",
        "    print(tokenizer.decode(outputs[i]))"
      ]
    },
    {
      "cell_type": "markdown",
      "metadata": {
        "id": "UOZuh5buOw4M"
      },
      "source": [
        "### Chain-of-thought with base model\n",
        "\n",
        "Prompting the model to \"think step by step\" can elicit intermediate reasoning steps before the final answer. Even base models can exhibit this behavior when prompted appropriately, though the reasoning may be flawed."
      ]
    },
    {
      "cell_type": "code",
      "execution_count": 18,
      "metadata": {
        "id": "hPQF_KVfOw4N"
      },
      "outputs": [
        {
          "data": {
            "application/vnd.jupyter.widget-view+json": {
              "model_id": "674d23a0d00f48cd9fbd5aa6a37dac06",
              "version_major": 2,
              "version_minor": 0
            },
            "text/plain": [
              "tokenizer_config.json: 0.00B [00:00, ?B/s]"
            ]
          },
          "metadata": {},
          "output_type": "display_data"
        },
        {
          "data": {
            "application/vnd.jupyter.widget-view+json": {
              "model_id": "413c0a907e7543fa98a5391bc13c9536",
              "version_major": 2,
              "version_minor": 0
            },
            "text/plain": [
              "vocab.json: 0.00B [00:00, ?B/s]"
            ]
          },
          "metadata": {},
          "output_type": "display_data"
        },
        {
          "data": {
            "application/vnd.jupyter.widget-view+json": {
              "model_id": "e937df8a19744d5aabb014db13f519e1",
              "version_major": 2,
              "version_minor": 0
            },
            "text/plain": [
              "merges.txt: 0.00B [00:00, ?B/s]"
            ]
          },
          "metadata": {},
          "output_type": "display_data"
        },
        {
          "data": {
            "application/vnd.jupyter.widget-view+json": {
              "model_id": "8996f3d6445546f0a5a99dd3c17d0340",
              "version_major": 2,
              "version_minor": 0
            },
            "text/plain": [
              "tokenizer.json: 0.00B [00:00, ?B/s]"
            ]
          },
          "metadata": {},
          "output_type": "display_data"
        },
        {
          "data": {
            "application/vnd.jupyter.widget-view+json": {
              "model_id": "468500f8c65c498d89799c071ab7f213",
              "version_major": 2,
              "version_minor": 0
            },
            "text/plain": [
              "special_tokens_map.json:   0%|          | 0.00/831 [00:00<?, ?B/s]"
            ]
          },
          "metadata": {},
          "output_type": "display_data"
        },
        {
          "data": {
            "application/vnd.jupyter.widget-view+json": {
              "model_id": "d46cccbdf8f8434698b68bf61ffd0e28",
              "version_major": 2,
              "version_minor": 0
            },
            "text/plain": [
              "config.json:   0%|          | 0.00/689 [00:00<?, ?B/s]"
            ]
          },
          "metadata": {},
          "output_type": "display_data"
        },
        {
          "data": {
            "application/vnd.jupyter.widget-view+json": {
              "model_id": "db6ce301d3524fce8b8aec0a8843243a",
              "version_major": 2,
              "version_minor": 0
            },
            "text/plain": [
              "model.safetensors:   0%|          | 0.00/724M [00:00<?, ?B/s]"
            ]
          },
          "metadata": {},
          "output_type": "display_data"
        },
        {
          "data": {
            "application/vnd.jupyter.widget-view+json": {
              "model_id": "be55f0a264f44d63a845ee4108620c18",
              "version_major": 2,
              "version_minor": 0
            },
            "text/plain": [
              "generation_config.json:   0%|          | 0.00/111 [00:00<?, ?B/s]"
            ]
          },
          "metadata": {},
          "output_type": "display_data"
        }
      ],
      "source": [
        "model = \"HuggingFaceTB/SmolLM2-360M\"\n",
        "\n",
        "tokenizer = AutoTokenizer.from_pretrained(model)\n",
        "model = AutoModelForCausalLM.from_pretrained(model)"
      ]
    },
    {
      "cell_type": "code",
      "execution_count": 19,
      "metadata": {
        "id": "gbgvITqwOw4N"
      },
      "outputs": [
        {
          "name": "stdout",
          "output_type": "stream",
          "text": [
            "Q: On average Joe throws 25 punches per minute.\n",
            "A fight lasts 5 rounds of 3 minutes.\n",
            "How many punches did he throw?\n",
            "A: Let's think step by step.\n",
            "\n",
            "Q: Joe is throwing 25 punches per minute.\n",
            "A: 25 punches per minute.\n",
            "\n",
            "Q: Joe is throwing 25 punches per minute.\n",
            "A: 25 punches per minute.\n",
            "\n",
            "Q: Joe is throwing 25 punches per minute.\n",
            "A: 25 punches per minute.\n",
            "\n",
            "Q: Joe is throwing 25 punches per minute.\n",
            "A: 25 punches per minute.\n",
            "\n",
            "Q: Joe is throwing 25 punches per minute.\n",
            "A: 25 punches per minute.\n",
            "\n",
            "Q: Joe is throwing 25 punches per minute.\n",
            "A: 25 punches per minute.\n",
            "\n",
            "Q: Joe is throwing 25 punches per minute.\n",
            "A: 25 punches per minute.\n",
            "\n",
            "Q: Joe is throwing 25 punches per minute.\n",
            "A: 25 punches per minute.\n",
            "\n",
            "Q: Joe is throwing 25 punches per minute.\n",
            "A: 25 punches per minute.\n",
            "\n",
            "Q: Joe is throwing 25 punches per minute.\n",
            "A: 25 punches per minute.\n",
            "\n",
            "Q: Joe is throwing 25 punches per minute.\n",
            "A: 25 punches per minute.\n",
            "\n",
            "Q: Joe is throwing 25 punches per minute.\n",
            "A: 25 punches per minute.\n",
            "\n",
            "Q: Joe is throwing 25 punches per minute.\n",
            "A: 25 punches per minute.\n",
            "\n",
            "Q: Joe is throwing 25 punches per minute.\n",
            "A: 25 punches per minute.\n",
            "\n",
            "Q: Joe is throwing 25 punches per minute.\n",
            "A: 25 punches per minute.\n",
            "\n",
            "Q: Joe is throwing 25 punches per minute.\n",
            "A: 25 punches per minute.\n",
            "\n",
            "Q: Joe is throwing 25 punches per minute.\n",
            "A: 25 punches per minute.\n",
            "\n",
            "Q: Joe is throwing 25 punches per minute.\n",
            "A: 25 punches per minute.\n",
            "\n",
            "Q: Joe is throwing 25 punches per minute.\n",
            "A: 25 punches per minute.\n",
            "\n",
            "Q: Joe is throwing 25 punches per minute.\n",
            "A:\n",
            "====\n"
          ]
        }
      ],
      "source": [
        "prompts = [\n",
        "    \"\"\"Q: On average Joe throws 25 punches per minute.\n",
        "A fight lasts 5 rounds of 3 minutes.\n",
        "How many punches did he throw?\n",
        "A: Let's think step by step.\"\"\",\n",
        "]\n",
        "\n",
        "for prompt in prompts:\n",
        "    inputs = tokenizer(prompt, return_tensors=\"pt\")\n",
        "    outputs = model.generate(\n",
        "        **inputs,\n",
        "        pad_token_id=tokenizer.eos_token_id,\n",
        "        max_new_tokens=512,\n",
        "        temperature=0.4,\n",
        "        do_sample=True\n",
        "    )\n",
        "    print(tokenizer.decode(outputs[0]))\n",
        "    print(\"====\")"
      ]
    },
    {
      "cell_type": "markdown",
      "metadata": {
        "id": "VvfdDtbAOw4N"
      },
      "source": [
        "### Chain-of-thought with instruct model\n",
        "\n",
        "Many instruction-tuned models can solve problems step-by-step when asked, as they've typically been trained to follow such instructions."
      ]
    },
    {
      "cell_type": "code",
      "execution_count": 20,
      "metadata": {
        "id": "wfjChWFsOw4O"
      },
      "outputs": [
        {
          "data": {
            "application/vnd.jupyter.widget-view+json": {
              "model_id": "ba2a9d1733f346d7915159f980f67845",
              "version_major": 2,
              "version_minor": 0
            },
            "text/plain": [
              "tokenizer_config.json: 0.00B [00:00, ?B/s]"
            ]
          },
          "metadata": {},
          "output_type": "display_data"
        },
        {
          "data": {
            "application/vnd.jupyter.widget-view+json": {
              "model_id": "a25e0863385544ac88f43349d36e914b",
              "version_major": 2,
              "version_minor": 0
            },
            "text/plain": [
              "vocab.json: 0.00B [00:00, ?B/s]"
            ]
          },
          "metadata": {},
          "output_type": "display_data"
        },
        {
          "data": {
            "application/vnd.jupyter.widget-view+json": {
              "model_id": "37d8b057cb974d168e824da257ea02fc",
              "version_major": 2,
              "version_minor": 0
            },
            "text/plain": [
              "merges.txt: 0.00B [00:00, ?B/s]"
            ]
          },
          "metadata": {},
          "output_type": "display_data"
        },
        {
          "data": {
            "application/vnd.jupyter.widget-view+json": {
              "model_id": "f256fd17e394489ba7dd1bcc7ef9a3c3",
              "version_major": 2,
              "version_minor": 0
            },
            "text/plain": [
              "tokenizer.json: 0.00B [00:00, ?B/s]"
            ]
          },
          "metadata": {},
          "output_type": "display_data"
        },
        {
          "data": {
            "application/vnd.jupyter.widget-view+json": {
              "model_id": "bea78f635a494550a052f355b91f6313",
              "version_major": 2,
              "version_minor": 0
            },
            "text/plain": [
              "special_tokens_map.json:   0%|          | 0.00/655 [00:00<?, ?B/s]"
            ]
          },
          "metadata": {},
          "output_type": "display_data"
        },
        {
          "data": {
            "application/vnd.jupyter.widget-view+json": {
              "model_id": "190c2b26b57647bfa2afa4d57c2abd2e",
              "version_major": 2,
              "version_minor": 0
            },
            "text/plain": [
              "config.json:   0%|          | 0.00/846 [00:00<?, ?B/s]"
            ]
          },
          "metadata": {},
          "output_type": "display_data"
        },
        {
          "data": {
            "application/vnd.jupyter.widget-view+json": {
              "model_id": "f1120b2683e344888244bcf50e4e96b5",
              "version_major": 2,
              "version_minor": 0
            },
            "text/plain": [
              "model.safetensors:   0%|          | 0.00/724M [00:00<?, ?B/s]"
            ]
          },
          "metadata": {},
          "output_type": "display_data"
        },
        {
          "data": {
            "application/vnd.jupyter.widget-view+json": {
              "model_id": "12cb8be2302a4fbc8ef00535a103d310",
              "version_major": 2,
              "version_minor": 0
            },
            "text/plain": [
              "generation_config.json:   0%|          | 0.00/132 [00:00<?, ?B/s]"
            ]
          },
          "metadata": {},
          "output_type": "display_data"
        }
      ],
      "source": [
        "model = \"HuggingFaceTB/SmolLM2-360M-Instruct\"\n",
        "\n",
        "tokenizer = AutoTokenizer.from_pretrained(model)\n",
        "model = AutoModelForCausalLM.from_pretrained(model)"
      ]
    },
    {
      "cell_type": "code",
      "execution_count": 21,
      "metadata": {
        "id": "m6ID6hYNOw4O"
      },
      "outputs": [
        {
          "name": "stdout",
          "output_type": "stream",
          "text": [
            "<|im_start|>system\n",
            "You are a helpful AI assistant named SmolLM, trained by Hugging Face<|im_end|>\n",
            "<|im_start|>user\n",
            "Solve the problem:\n",
            "On average Joe throws 25 punches per minute.\n",
            "A fight lasts 5 rounds of 3 minutes.\n",
            "How many punches did he throw?<|im_end|>\n",
            "<|im_start|>assistant\n",
            "Joe throws 25 punches per minute, so he can throw 25 * 60 = 1500 punches per minute.\n",
            "A fight lasts 5 rounds of 3 minutes, so Joe can throw 1500 * 5 = 7500 punches per fight.\n",
            "He can throw 7500 punches per fight.\n",
            "#### 7500\n",
            "The answer is: 7500<|im_end|>\n"
          ]
        }
      ],
      "source": [
        "messages = [\n",
        "    {\n",
        "        \"role\": \"user\",\n",
        "        \"content\": \"\"\"Solve the problem:\n",
        "On average Joe throws 25 punches per minute.\n",
        "A fight lasts 5 rounds of 3 minutes.\n",
        "How many punches did he throw?\"\"\"\n",
        "    }\n",
        "]\n",
        "\n",
        "input_text = tokenizer.apply_chat_template(messages, tokenize=False)\n",
        "inputs = tokenizer(input_text, return_tensors=\"pt\")\n",
        "outputs = model.generate(**inputs, max_new_tokens=256, temperature=0.4, do_sample=True)\n",
        "print(tokenizer.decode(outputs[0]))"
      ]
    },
    {
      "cell_type": "markdown",
      "metadata": {
        "id": "wJU5nA7sOw4O"
      },
      "source": [
        "### Program-aided reasoning\n",
        "\n",
        "Instead of natural language reasoning, we can prompt the model to solve problems by writing and executing code. This leverages the model's code generation capabilities and the code executor's accurate computations."
      ]
    },
    {
      "cell_type": "code",
      "execution_count": 22,
      "metadata": {
        "id": "zrRvnARIOw4O"
      },
      "outputs": [
        {
          "name": "stdout",
          "output_type": "stream",
          "text": [
            "<|im_start|>system\n",
            "You are a helpful AI assistant named SmolLM, trained by Hugging Face<|im_end|>\n",
            "<|im_start|>user\n",
            "Solve the problem by writing a Python program:\n",
            "On average Joe throws 25 punches per minute.\n",
            "A fight lasts 5 rounds of 3 minutes.\n",
            "How many punches did he throw?<|im_end|>\n",
            "<|im_start|>assistant\n",
            "Here is a Python program to solve the problem:\n",
            "\n",
            "```python\n",
            "import time\n",
            "\n",
            "# Define the punch duration\n",
            "punch_duration = 25\n",
            "\n",
            "# Define the fight duration\n",
            "fight_duration = 5 * 3\n",
            "\n",
            "# Define the number of rounds\n",
            "rounds = 3\n",
            "\n",
            "# Define the punch duration per round\n",
            "punch_duration_per_round = punch_duration / rounds\n",
            "\n",
            "# Define the punch duration per minute\n",
            "punch_duration_per_minute = punch_duration_per_round * 60\n",
            "\n",
            "# Define the punch duration per minute per round\n",
            "punch_duration_per_minute_per_round = punch_duration_per_minute / punch_duration_per_round\n",
            "\n",
            "# Calculate the punch duration per minute\n",
            "punch_duration_per_minute_per_round = punch_duration_per_minute_per_round / round(punch_duration_per_round)\n",
            "\n",
            "# Calculate the punch duration per minute per round\n",
            "punch_duration_per_minute_per_round = punch_duration_per_minute_per_round / round(punch_duration_per_round)\n",
            "\n",
            "# Calculate the total punch duration\n",
            "total_punch_duration = punch_duration_per_minute_per_round * round(punch_duration_per_round)\n",
            "\n",
            "# Calculate the total number of punches\n",
            "total_punches = round(total_punch_duration / punch_duration_per_minute)\n",
            "\n",
            "print(\"On average, Joe throws\", total_punches, \"punches per minute.\")\n",
            "print(\"A fight lasts\", fight_duration, \"minutes. Therefore, Joe threw\", total_punches * punch_duration_per_minute, \"punches.\")\n",
            "```\n",
            "\n",
            "This program calculates the total punch duration per minute and per round, and then calculates the total number of punches. The punch duration per minute is calculated by dividing the punch duration per minute per round by the punch duration per round. The punch duration per minute per round is calculated by dividing the punch duration per minute per round by the punch duration per round. The total punch duration is calculated by multiplying the total punch duration per minute by the total number of punches. The total number of punches is calculated by multiplying the total number of punches by the total number of punches per minute.<|im_end|>\n"
          ]
        }
      ],
      "source": [
        "messages = [\n",
        "    {\n",
        "        \"role\": \"user\",\n",
        "        \"content\": \"\"\"Solve the problem by writing a Python program:\n",
        "On average Joe throws 25 punches per minute.\n",
        "A fight lasts 5 rounds of 3 minutes.\n",
        "How many punches did he throw?\"\"\"\n",
        "    }\n",
        "]\n",
        "\n",
        "input_text = tokenizer.apply_chat_template(messages, tokenize=False)\n",
        "inputs = tokenizer(input_text, return_tensors=\"pt\")\n",
        "outputs = model.generate(**inputs, max_new_tokens=512, temperature=0.4, do_sample=True)\n",
        "print(tokenizer.decode(outputs[0]))"
      ]
    },
    {
      "cell_type": "markdown",
      "metadata": {},
      "source": [
        "# AG News Dataset: In-Context Learning and Fine-tuning\n",
        "\n",
        "Now we'll apply the ICL techniques we've learned to a real-world dataset: AG News. This dataset contains news articles classified into 4 categories. We'll compare zero-shot, few-shot, and fine-tuning approaches."
      ]
    },
    {
      "cell_type": "code",
      "execution_count": 1,
      "metadata": {
        "id": "VNfRCCr-b32A"
      },
      "outputs": [
        {
          "name": "stdout",
          "output_type": "stream",
          "text": [
            "Loading AG News dataset...\n",
            "Training samples: 120000\n",
            "Test samples: 7600\n",
            "\n",
            "AG News Categories:\n",
            "0: World\n",
            "1: Sports\n",
            "2: Business\n",
            "3: Technology\n",
            "\n",
            "=== Sample Examples ===\n",
            "\n",
            "Category: Business (2)\n",
            "Text: Wall St. Bears Claw Back Into the Black (Reuters) Reuters - Short-sellers, Wall Street's dwindling\\band of ultra-cynics, are seeing green again....\n",
            "\n",
            "Category: Business (2)\n",
            "Text: Carlyle Looks Toward Commercial Aerospace (Reuters) Reuters - Private investment firm Carlyle Group,\\which has a reputation for making well-timed and occasionally\\controversial plays in the defense in...\n",
            "Training samples: 120000\n",
            "Test samples: 7600\n",
            "\n",
            "AG News Categories:\n",
            "0: World\n",
            "1: Sports\n",
            "2: Business\n",
            "3: Technology\n",
            "\n",
            "=== Sample Examples ===\n",
            "\n",
            "Category: Business (2)\n",
            "Text: Wall St. Bears Claw Back Into the Black (Reuters) Reuters - Short-sellers, Wall Street's dwindling\\band of ultra-cynics, are seeing green again....\n",
            "\n",
            "Category: Business (2)\n",
            "Text: Carlyle Looks Toward Commercial Aerospace (Reuters) Reuters - Private investment firm Carlyle Group,\\which has a reputation for making well-timed and occasionally\\controversial plays in the defense in...\n"
          ]
        }
      ],
      "source": [
        "from datasets import load_dataset\n",
        "import pandas as pd\n",
        "import numpy as np\n",
        "\n",
        "# Cargar AG News dataset\n",
        "print(\"Loading AG News dataset...\")\n",
        "dataset = load_dataset(\"ag_news\")\n",
        "train_data = dataset['train']\n",
        "test_data = dataset['test']\n",
        "\n",
        "# Explorar estructura del dataset\n",
        "print(f\"Training samples: {len(train_data)}\")\n",
        "print(f\"Test samples: {len(test_data)}\")\n",
        "\n",
        "# Categorías del dataset AG News\n",
        "categories = {0: \"World\", 1: \"Sports\", 2: \"Business\", 3: \"Technology\"}\n",
        "\n",
        "print(\"\\nAG News Categories:\")\n",
        "for idx, cat in categories.items():\n",
        "    print(f\"{idx}: {cat}\")\n",
        "\n",
        "# Mostrar algunos ejemplos\n",
        "print(\"\\n=== Sample Examples ===\")\n",
        "for i in range(2):\n",
        "    example = train_data[i]\n",
        "    print(f\"\\nCategory: {categories[example['label']]} ({example['label']})\")\n",
        "    print(f\"Text: {example['text'][:200]}...\")"
      ]
    },
    {
      "cell_type": "code",
      "execution_count": null,
      "metadata": {},
      "outputs": [],
      "source": []
    },
    {
      "cell_type": "markdown",
      "metadata": {},
      "source": [
        "### Zero-shot News Classification\n",
        "\n",
        "Let's start with zero-shot classification using our base model. We'll use the same model we've been working with and prompt it to classify news articles into the 4 AG News categories."
      ]
    },
    {
      "cell_type": "code",
      "execution_count": 2,
      "metadata": {},
      "outputs": [
        {
          "name": "stdout",
          "output_type": "stream",
          "text": [
            "Using model: facebook/opt-350m\n"
          ]
        }
      ],
      "source": [
        "# First, let's reload our selected model since the kernel was restarted\n",
        "SELECTED = 'meta350' # Redefining the model selection\n",
        "\n",
        "MODELS = {\n",
        "    'meta350': 'facebook/opt-350m',\n",
        "    'smol135': 'HuggingFaceTB/SmolLM2-135M',\n",
        "    'smol360': 'HuggingFaceTB/SmolLM2-360M',\n",
        "}\n",
        "\n",
        "MODEL = MODELS[SELECTED]\n",
        "print(f\"Using model: {MODEL}\")\n",
        "\n",
        "# Reload model and tokenizer\n",
        "from transformers import AutoTokenizer, AutoModelForCausalLM\n",
        "\n",
        "tokenizer = AutoTokenizer.from_pretrained(MODEL)\n",
        "model = AutoModelForCausalLM.from_pretrained(MODEL)"
      ]
    },
    {
      "cell_type": "code",
      "execution_count": 8,
      "metadata": {},
      "outputs": [
        {
          "name": "stderr",
          "output_type": "stream",
          "text": [
            "The following generation flags are not valid and may be ignored: ['temperature']. Set `TRANSFORMERS_VERBOSITY=info` for more details.\n"
          ]
        },
        {
          "name": "stdout",
          "output_type": "stream",
          "text": [
            "=== Zero-shot News Classification Results ===\n",
            "\n",
            "--- Example 1 ---\n",
            "Article: Fears for T N pension after talks Unions representing workers at Turner   Newall say they are 'disappointed' after talks...\n",
            "Actual: Business\n",
            "Predicted: No prediction\n",
            "Debug - Full generated text: '\n",
            "This article belongs to the category of 'News'.\n",
            "\n",
            "'\n",
            "\n",
            "--- Example 1 ---\n",
            "Article: Fears for T N pension after talks Unions representing workers at Turner   Newall say they are 'disappointed' after talks...\n",
            "Actual: Business\n",
            "Predicted: No prediction\n",
            "Debug - Full generated text: '\n",
            "This article belongs to the category of 'News'.\n",
            "\n",
            "'\n",
            "\n",
            "--- Example 2 ---\n",
            "Article: The Race is On: Second Private Team Sets Launch Date for Human Spaceflight (SPACE.com) SPACE.com - TORONTO, Canada -- A ...\n",
            "Actual: Technology\n",
            "Predicted: No prediction\n",
            "\n",
            "--- Example 2 ---\n",
            "Article: The Race is On: Second Private Team Sets Launch Date for Human Spaceflight (SPACE.com) SPACE.com - TORONTO, Canada -- A ...\n",
            "Actual: Technology\n",
            "Predicted: No prediction\n",
            "\n",
            "--- Example 3 ---\n",
            "Article: Ky. Company Wins Grant to Study Peptides (AP) AP - A company founded by a chemistry researcher at the University of Loui...\n",
            "Actual: Technology\n",
            "Predicted: No prediction\n",
            "\n",
            "--- Example 4 ---\n",
            "Article: Prediction Unit Helps Forecast Wildfires (AP) AP - It's barely dawn when Mike Fitzpatrick starts his shift with a blur o...\n",
            "Actual: Technology\n",
            "Predicted: No prediction\n",
            "\n",
            "--- Example 3 ---\n",
            "Article: Ky. Company Wins Grant to Study Peptides (AP) AP - A company founded by a chemistry researcher at the University of Loui...\n",
            "Actual: Technology\n",
            "Predicted: No prediction\n",
            "\n",
            "--- Example 4 ---\n",
            "Article: Prediction Unit Helps Forecast Wildfires (AP) AP - It's barely dawn when Mike Fitzpatrick starts his shift with a blur o...\n",
            "Actual: Technology\n",
            "Predicted: No prediction\n",
            "\n",
            "--- Example 5 ---\n",
            "Article: Calif. Aims to Limit Farm-Related Smog (AP) AP - Southern California's smog-fighting agency went after emissions of the ...\n",
            "Actual: Technology\n",
            "Predicted: No prediction\n",
            "\n",
            "--- Example 5 ---\n",
            "Article: Calif. Aims to Limit Farm-Related Smog (AP) AP - Southern California's smog-fighting agency went after emissions of the ...\n",
            "Actual: Technology\n",
            "Predicted: No prediction\n"
          ]
        }
      ],
      "source": [
        "# Define prompt template for zero-shot news classification - natural language approach\n",
        "prompt_template_news_zero = \"\"\"This news article is about {text}\n",
        "\n",
        "This article belongs to the category of\"\"\"\n",
        "\n",
        "# Test with a few examples from test set\n",
        "test_samples = [test_data[i] for i in range(5)]\n",
        "\n",
        "print(\"=== Zero-shot News Classification Results ===\")\n",
        "for i, sample in enumerate(test_samples):\n",
        "    prompt = prompt_template_news_zero.format(text=sample['text'][:200])  # Limit text length\n",
        "    inputs = tokenizer(prompt, return_tensors='pt')\n",
        "    \n",
        "    outputs = model.generate(\n",
        "        **inputs,\n",
        "        max_new_tokens=5,  # Reduced to get just the category\n",
        "        do_sample=False,  # Use greedy decoding for more consistent results\n",
        "        temperature=0.1,\n",
        "        pad_token_id=tokenizer.eos_token_id\n",
        "    )\n",
        "    \n",
        "    # Decode and extract prediction\n",
        "    full_text = tokenizer.decode(outputs[0], skip_special_tokens=True)\n",
        "    actual_category = categories[sample['label']]\n",
        "    \n",
        "    # Better extraction of the prediction\n",
        "    if 'The category is:' in full_text:\n",
        "        prediction_part = full_text.split('The category is:')[-1].strip()\n",
        "        predicted_category = prediction_part.split()[0] if prediction_part.split() else \"Unknown\"\n",
        "    else:\n",
        "        # Look for any of the expected categories in the generated text\n",
        "        generated_lower = full_text.lower()\n",
        "        if 'world' in generated_lower:\n",
        "            predicted_category = \"World\"\n",
        "        elif 'sports' in generated_lower:\n",
        "            predicted_category = \"Sports\"  \n",
        "        elif 'business' in generated_lower:\n",
        "            predicted_category = \"Business\"\n",
        "        elif 'technology' in generated_lower:\n",
        "            predicted_category = \"Technology\"\n",
        "        else:\n",
        "            predicted_category = \"No prediction\"\n",
        "    \n",
        "    print(f\"\\n--- Example {i+1} ---\")\n",
        "    print(f\"Article: {sample['text'][:120]}...\")\n",
        "    print(f\"Actual: {actual_category}\")\n",
        "    print(f\"Predicted: {predicted_category}\")\n",
        "    \n",
        "    # Debug: Show full generated text for first example\n",
        "    if i == 0:\n",
        "        print(f\"Debug - Full generated text: '{full_text[-50:]}'\")  # Show last 50 chars"
      ]
    },
    {
      "cell_type": "markdown",
      "metadata": {},
      "source": [
        "### Few-shot News Classification\n",
        "\n",
        "Now let's apply few-shot learning by providing examples of each category before asking the model to classify new articles. This should improve the model's understanding of the task format and expected outputs."
      ]
    },
    {
      "cell_type": "code",
      "execution_count": 9,
      "metadata": {},
      "outputs": [
        {
          "name": "stdout",
          "output_type": "stream",
          "text": [
            "=== Few-shot News Classification Results ===\n",
            "\n",
            "--- Example 1 ---\n",
            "Article: Fears for T N pension after talks Unions representing workers at Turner   Newall say they are 'disappointed' after talks...\n",
            "Actual: Business\n",
            "Predicted: Business\n",
            "Correct: True\n",
            "\n",
            "--- Example 1 ---\n",
            "Article: Fears for T N pension after talks Unions representing workers at Turner   Newall say they are 'disappointed' after talks...\n",
            "Actual: Business\n",
            "Predicted: Business\n",
            "Correct: True\n",
            "\n",
            "--- Example 2 ---\n",
            "Article: The Race is On: Second Private Team Sets Launch Date for Human Spaceflight (SPACE.com) SPACE.com - TORONTO, Canada -- A ...\n",
            "Actual: Technology\n",
            "Predicted: Tech\n",
            "Correct: True\n",
            "\n",
            "--- Example 2 ---\n",
            "Article: The Race is On: Second Private Team Sets Launch Date for Human Spaceflight (SPACE.com) SPACE.com - TORONTO, Canada -- A ...\n",
            "Actual: Technology\n",
            "Predicted: Tech\n",
            "Correct: True\n",
            "\n",
            "--- Example 3 ---\n",
            "Article: Ky. Company Wins Grant to Study Peptides (AP) AP - A company founded by a chemistry researcher at the University of Loui...\n",
            "Actual: Technology\n",
            "Predicted: Science\n",
            "Correct: False\n",
            "\n",
            "--- Example 3 ---\n",
            "Article: Ky. Company Wins Grant to Study Peptides (AP) AP - A company founded by a chemistry researcher at the University of Loui...\n",
            "Actual: Technology\n",
            "Predicted: Science\n",
            "Correct: False\n",
            "\n",
            "--- Example 4 ---\n",
            "Article: Prediction Unit Helps Forecast Wildfires (AP) AP - It's barely dawn when Mike Fitzpatrick starts his shift with a blur o...\n",
            "Actual: Technology\n",
            "Predicted: Technology\n",
            "Correct: True\n",
            "\n",
            "--- Example 4 ---\n",
            "Article: Prediction Unit Helps Forecast Wildfires (AP) AP - It's barely dawn when Mike Fitzpatrick starts his shift with a blur o...\n",
            "Actual: Technology\n",
            "Predicted: Technology\n",
            "Correct: True\n",
            "\n",
            "--- Example 5 ---\n",
            "Article: Calif. Aims to Limit Farm-Related Smog (AP) AP - Southern California's smog-fighting agency went after emissions of the ...\n",
            "Actual: Technology\n",
            "Predicted: Business\n",
            "Correct: False\n",
            "\n",
            "=============\n",
            "Few-shot Classification Summary:\n",
            "Correct predictions: 3/5\n",
            "Accuracy: 60.0%\n",
            "=============\n",
            "\n",
            "--- Example 5 ---\n",
            "Article: Calif. Aims to Limit Farm-Related Smog (AP) AP - Southern California's smog-fighting agency went after emissions of the ...\n",
            "Actual: Technology\n",
            "Predicted: Business\n",
            "Correct: False\n",
            "\n",
            "=============\n",
            "Few-shot Classification Summary:\n",
            "Correct predictions: 3/5\n",
            "Accuracy: 60.0%\n",
            "=============\n"
          ]
        }
      ],
      "source": [
        "# Create few-shot examples - one from each category\n",
        "few_shot_examples = {\n",
        "    \"World\": \"UN Security Council meets to discuss ongoing tensions in Eastern Europe amid diplomatic efforts.\",\n",
        "    \"Sports\": \"Manchester United defeats Chelsea 3-1 in Premier League match with brilliant performance from midfield.\",\n",
        "    \"Business\": \"Tech stocks rally as quarterly earnings exceed expectations, driving market indices to new highs.\",\n",
        "    \"Technology\": \"Apple unveils new iPhone with advanced AI capabilities and improved battery life at annual event.\"\n",
        "}\n",
        "\n",
        "# Define few-shot prompt template\n",
        "prompt_template_news_few = \"\"\"Classify the following news articles into one of these categories: World, Sports, Business, Technology.\n",
        "\n",
        "Article: UN Security Council meets to discuss ongoing tensions in Eastern Europe amid diplomatic efforts.\n",
        "Category: World\n",
        "\n",
        "Article: Manchester United defeats Chelsea 3-1 in Premier League match with brilliant performance from midfield.\n",
        "Category: Sports\n",
        "\n",
        "Article: Tech stocks rally as quarterly earnings exceed expectations, driving market indices to new highs.\n",
        "Category: Business\n",
        "\n",
        "Article: Apple unveils new iPhone with advanced AI capabilities and improved battery life at annual event.\n",
        "Category: Technology\n",
        "\n",
        "Article: {text}\n",
        "Category:\"\"\"\n",
        "\n",
        "print(\"=== Few-shot News Classification Results ===\")\n",
        "correct_count = 0\n",
        "total_count = len(test_samples)\n",
        "\n",
        "for i, sample in enumerate(test_samples):\n",
        "    prompt = prompt_template_news_few.format(text=sample['text'][:300])\n",
        "    inputs = tokenizer(prompt, return_tensors='pt')\n",
        "    \n",
        "    outputs = model.generate(\n",
        "        **inputs,\n",
        "        max_new_tokens=10,\n",
        "        do_sample=True,\n",
        "        temperature=0.1,\n",
        "        pad_token_id=tokenizer.eos_token_id\n",
        "    )\n",
        "    \n",
        "    prediction = tokenizer.decode(outputs[0], skip_special_tokens=True)\n",
        "    actual_category = categories[sample['label']]\n",
        "    \n",
        "    # Better extraction of prediction\n",
        "    if 'Category:' in prediction:\n",
        "        predicted_text = prediction.split('Category:')[-1].strip()\n",
        "        predicted_category = predicted_text.split()[0] if predicted_text.split() else \"Unknown\"\n",
        "    else:\n",
        "        predicted_category = \"No prediction\"\n",
        "    \n",
        "    # Check if correct (handle partial matches like \"Tech\" for \"Technology\")\n",
        "    is_correct = (predicted_category == actual_category or \n",
        "                 (predicted_category == \"Tech\" and actual_category == \"Technology\"))\n",
        "    \n",
        "    if is_correct:\n",
        "        correct_count += 1\n",
        "    \n",
        "    print(f\"\\n--- Example {i+1} ---\")\n",
        "    print(f\"Article: {sample['text'][:120]}...\")\n",
        "    print(f\"Actual: {actual_category}\")\n",
        "    print(f\"Predicted: {predicted_category}\")\n",
        "    print(f\"Correct: {is_correct}\")\n",
        "\n",
        "# Summary\n",
        "accuracy = correct_count / total_count\n",
        "print(f\"\\n=============\")\n",
        "print(f\"Few-shot Classification Summary:\")\n",
        "print(f\"Correct predictions: {correct_count}/{total_count}\")\n",
        "print(f\"Accuracy: {accuracy:.1%}\")\n",
        "print(f\"=============\")"
      ]
    },
    {
      "cell_type": "markdown",
      "metadata": {},
      "source": [
        "### Fine-tuning Setup\n",
        "\n",
        "Now we'll implement fine-tuning of our model on the AG News dataset. This involves training the model parameters specifically for the news classification task, which should provide better performance than ICL approaches."
      ]
    },
    {
      "cell_type": "code",
      "execution_count": 3,
      "metadata": {},
      "outputs": [
        {
          "name": "stdout",
          "output_type": "stream",
          "text": [
            "Training samples: 1000\n",
            "Test samples: 200\n"
          ]
        },
        {
          "name": "stderr",
          "output_type": "stream",
          "text": [
            "Some weights of OPTForSequenceClassification were not initialized from the model checkpoint at facebook/opt-350m and are newly initialized: ['score.weight']\n",
            "You should probably TRAIN this model on a down-stream task to be able to use it for predictions and inference.\n"
          ]
        },
        {
          "name": "stdout",
          "output_type": "stream",
          "text": [
            "Dataset preparation completed!\n"
          ]
        }
      ],
      "source": [
        "from transformers import TrainingArguments, Trainer, AutoModelForSequenceClassification\n",
        "from torch.utils.data import Dataset\n",
        "import torch\n",
        "from sklearn.metrics import accuracy_score, classification_report\n",
        "\n",
        "# Custom dataset class for AG News\n",
        "class AGNewsDataset(Dataset):\n",
        "    def __init__(self, texts, labels, tokenizer, max_length=128):\n",
        "        self.texts = texts\n",
        "        self.labels = labels\n",
        "        self.tokenizer = tokenizer\n",
        "        self.max_length = max_length\n",
        "    \n",
        "    def __len__(self):\n",
        "        return len(self.texts)\n",
        "    \n",
        "    def __getitem__(self, idx):\n",
        "        text = str(self.texts[idx])\n",
        "        label = self.labels[idx]\n",
        "        \n",
        "        encoding = self.tokenizer(\n",
        "            text,\n",
        "            truncation=True,\n",
        "            padding='max_length',\n",
        "            max_length=self.max_length,\n",
        "            return_tensors='pt'\n",
        "        )\n",
        "        \n",
        "        return {\n",
        "            'input_ids': encoding['input_ids'].flatten(),\n",
        "            'attention_mask': encoding['attention_mask'].flatten(),\n",
        "            'labels': torch.tensor(label, dtype=torch.long)\n",
        "        }\n",
        "\n",
        "# Prepare data for fine-tuning\n",
        "# Use a subset for faster training (you can increase this for better results)\n",
        "train_subset_size = 1000\n",
        "test_subset_size = 200\n",
        "\n",
        "train_texts = [train_data[i]['text'] for i in range(train_subset_size)]\n",
        "train_labels = [train_data[i]['label'] for i in range(train_subset_size)]\n",
        "\n",
        "test_texts = [test_data[i]['text'] for i in range(test_subset_size)]\n",
        "test_labels = [test_data[i]['label'] for i in range(test_subset_size)]\n",
        "\n",
        "print(f\"Training samples: {len(train_texts)}\")\n",
        "print(f\"Test samples: {len(test_texts)}\")\n",
        "\n",
        "# Load classification model (same base model but with classification head)\n",
        "model_name = MODEL\n",
        "classification_model = AutoModelForSequenceClassification.from_pretrained(\n",
        "    model_name, \n",
        "    num_labels=4,\n",
        "    id2label={0: \"World\", 1: \"Sports\", 2: \"Business\", 3: \"Technology\"},\n",
        "    label2id={\"World\": 0, \"Sports\": 1, \"Business\": 2, \"Technology\": 3}\n",
        ")\n",
        "\n",
        "# Create datasets\n",
        "train_dataset = AGNewsDataset(train_texts, train_labels, tokenizer)\n",
        "test_dataset = AGNewsDataset(test_texts, test_labels, tokenizer)\n",
        "\n",
        "print(\"Dataset preparation completed!\")"
      ]
    },
    {
      "cell_type": "code",
      "execution_count": 5,
      "metadata": {},
      "outputs": [
        {
          "name": "stdout",
          "output_type": "stream",
          "text": [
            "Trainer initialized. Ready to start fine-tuning!\n"
          ]
        }
      ],
      "source": [
        "# Define metrics computation function\n",
        "def compute_metrics(eval_pred):\n",
        "    predictions, labels = eval_pred\n",
        "    predictions = predictions.argmax(axis=-1)\n",
        "    accuracy = accuracy_score(labels, predictions)\n",
        "    return {\"accuracy\": accuracy}\n",
        "\n",
        "# Training arguments - using minimal settings for faster training\n",
        "training_args = TrainingArguments(\n",
        "    output_dir='./results',\n",
        "    num_train_epochs=2,  # Reduced for faster training\n",
        "    per_device_train_batch_size=8,\n",
        "    per_device_eval_batch_size=8,\n",
        "    warmup_steps=100,\n",
        "    weight_decay=0.01,\n",
        "    logging_dir='./logs',\n",
        "    logging_steps=50,\n",
        "    eval_strategy=\"epoch\",\n",
        "    save_strategy=\"epoch\",\n",
        "    load_best_model_at_end=True,\n",
        "    metric_for_best_model=\"accuracy\",\n",
        "    remove_unused_columns=False,\n",
        ")\n",
        "\n",
        "# Initialize trainer\n",
        "trainer = Trainer(\n",
        "    model=classification_model,\n",
        "    args=training_args,\n",
        "    train_dataset=train_dataset,\n",
        "    eval_dataset=test_dataset,\n",
        "    compute_metrics=compute_metrics,\n",
        ")\n",
        "\n",
        "print(\"Trainer initialized. Ready to start fine-tuning!\")"
      ]
    },
    {
      "cell_type": "code",
      "execution_count": 6,
      "metadata": {},
      "outputs": [
        {
          "name": "stdout",
          "output_type": "stream",
          "text": [
            "Starting fine-tuning process...\n",
            "This may take several minutes depending on your hardware.\n"
          ]
        },
        {
          "name": "stderr",
          "output_type": "stream",
          "text": [
            "/Users/feliperosero/Library/CloudStorage/OneDrive-UniversidadSanFranciscodeQuito/USFQ/Maestria en Inteligencia Artificial/Materias/Procesamiento Lenguaje Natural/Taller_2/.venv/lib/python3.10/site-packages/torch/utils/data/dataloader.py:684: UserWarning: 'pin_memory' argument is set as true but not supported on MPS now, then device pinned memory won't be used.\n",
            "  warnings.warn(warn_msg)\n"
          ]
        },
        {
          "data": {
            "text/html": [
              "\n",
              "    <div>\n",
              "      \n",
              "      <progress value='250' max='250' style='width:300px; height:20px; vertical-align: middle;'></progress>\n",
              "      [250/250 03:55, Epoch 2/2]\n",
              "    </div>\n",
              "    <table border=\"1\" class=\"dataframe\">\n",
              "  <thead>\n",
              " <tr style=\"text-align: left;\">\n",
              "      <th>Epoch</th>\n",
              "      <th>Training Loss</th>\n",
              "      <th>Validation Loss</th>\n",
              "      <th>Accuracy</th>\n",
              "    </tr>\n",
              "  </thead>\n",
              "  <tbody>\n",
              "    <tr>\n",
              "      <td>1</td>\n",
              "      <td>0.612600</td>\n",
              "      <td>0.592479</td>\n",
              "      <td>0.830000</td>\n",
              "    </tr>\n",
              "    <tr>\n",
              "      <td>2</td>\n",
              "      <td>0.391800</td>\n",
              "      <td>0.356914</td>\n",
              "      <td>0.910000</td>\n",
              "    </tr>\n",
              "  </tbody>\n",
              "</table><p>"
            ],
            "text/plain": [
              "<IPython.core.display.HTML object>"
            ]
          },
          "metadata": {},
          "output_type": "display_data"
        },
        {
          "name": "stderr",
          "output_type": "stream",
          "text": [
            "/Users/feliperosero/Library/CloudStorage/OneDrive-UniversidadSanFranciscodeQuito/USFQ/Maestria en Inteligencia Artificial/Materias/Procesamiento Lenguaje Natural/Taller_2/.venv/lib/python3.10/site-packages/torch/utils/data/dataloader.py:684: UserWarning: 'pin_memory' argument is set as true but not supported on MPS now, then device pinned memory won't be used.\n",
            "  warnings.warn(warn_msg)\n"
          ]
        },
        {
          "name": "stdout",
          "output_type": "stream",
          "text": [
            "Fine-tuning completed successfully!\n"
          ]
        },
        {
          "name": "stderr",
          "output_type": "stream",
          "text": [
            "/Users/feliperosero/Library/CloudStorage/OneDrive-UniversidadSanFranciscodeQuito/USFQ/Maestria en Inteligencia Artificial/Materias/Procesamiento Lenguaje Natural/Taller_2/.venv/lib/python3.10/site-packages/torch/utils/data/dataloader.py:684: UserWarning: 'pin_memory' argument is set as true but not supported on MPS now, then device pinned memory won't be used.\n",
            "  warnings.warn(warn_msg)\n"
          ]
        },
        {
          "data": {
            "text/html": [
              "\n",
              "    <div>\n",
              "      \n",
              "      <progress value='25' max='25' style='width:300px; height:20px; vertical-align: middle;'></progress>\n",
              "      [25/25 00:06]\n",
              "    </div>\n",
              "    "
            ],
            "text/plain": [
              "<IPython.core.display.HTML object>"
            ]
          },
          "metadata": {},
          "output_type": "display_data"
        },
        {
          "name": "stdout",
          "output_type": "stream",
          "text": [
            "\n",
            "Final evaluation results:\n",
            "eval_loss: 0.3569\n",
            "eval_accuracy: 0.9100\n",
            "eval_runtime: 6.5093\n",
            "eval_samples_per_second: 30.7250\n",
            "eval_steps_per_second: 3.8410\n",
            "epoch: 2.0000\n"
          ]
        }
      ],
      "source": [
        "# Start fine-tuning\n",
        "print(\"Starting fine-tuning process...\")\n",
        "print(\"This may take several minutes depending on your hardware.\")\n",
        "\n",
        "try:\n",
        "    trainer.train()\n",
        "    print(\"Fine-tuning completed successfully!\")\n",
        "    \n",
        "    # Evaluate the fine-tuned model\n",
        "    eval_results = trainer.evaluate()\n",
        "    print(f\"\\nFinal evaluation results:\")\n",
        "    for key, value in eval_results.items():\n",
        "        print(f\"{key}: {value:.4f}\")\n",
        "        \n",
        "except Exception as e:\n",
        "    print(f\"Training encountered an issue: {e}\")\n",
        "    print(\"This might be due to hardware limitations. The model setup is correct.\")"
      ]
    },
    {
      "cell_type": "markdown",
      "metadata": {},
      "source": [
        "### Comparison: ICL vs Fine-tuning\n",
        "\n",
        "Now let's compare the performance of our different approaches: zero-shot, few-shot, and fine-tuning. This comparison will help us understand the strengths and limitations of each method."
      ]
    },
    {
      "cell_type": "code",
      "execution_count": 10,
      "metadata": {},
      "outputs": [
        {
          "name": "stdout",
          "output_type": "stream",
          "text": [
            "\n",
            "=== Evaluating Zero-shot ===\n",
            "Example 1: Actual=Business, Predicted=\n",
            "Example 1: Actual=Business, Predicted=\n",
            "Example 2: Actual=Technology, Predicted=\n",
            "Example 2: Actual=Technology, Predicted=\n",
            "Example 3: Actual=Technology, Predicted=\n",
            "Example 3: Actual=Technology, Predicted=\n",
            "Zero-shot Accuracy: 100.00% (20/20)\n",
            "\n",
            "=== Evaluating Few-shot ===\n",
            "Zero-shot Accuracy: 100.00% (20/20)\n",
            "\n",
            "=== Evaluating Few-shot ===\n",
            "Example 1: Actual=Business, Predicted=Business\n",
            "Example 1: Actual=Business, Predicted=Business\n",
            "Example 2: Actual=Technology, Predicted=Tech\n",
            "Example 2: Actual=Technology, Predicted=Tech\n",
            "Example 3: Actual=Technology, Predicted=Science\n",
            "Example 3: Actual=Technology, Predicted=Science\n",
            "Few-shot Accuracy: 55.00% (11/20)\n",
            "Few-shot Accuracy: 55.00% (11/20)\n"
          ]
        }
      ],
      "source": [
        "# Function to evaluate ICL approaches systematically\n",
        "def evaluate_icl_approach(prompt_template, approach_name, num_samples=20):\n",
        "    \"\"\"Evaluate zero-shot or few-shot approach on a sample of test data\"\"\"\n",
        "    correct_predictions = 0\n",
        "    predictions = []\n",
        "    actuals = []\n",
        "    \n",
        "    print(f\"\\n=== Evaluating {approach_name} ===\")\n",
        "    test_sample = [test_data[i] for i in range(min(num_samples, len(test_data)))]\n",
        "    \n",
        "    for i, sample in enumerate(test_sample):\n",
        "        prompt = prompt_template.format(text=sample['text'][:300])\n",
        "        inputs = tokenizer(prompt, return_tensors='pt')\n",
        "        \n",
        "        outputs = model.generate(\n",
        "            **inputs,\n",
        "            max_new_tokens=10,\n",
        "            do_sample=True,\n",
        "            temperature=0.1,\n",
        "            pad_token_id=tokenizer.eos_token_id\n",
        "        )\n",
        "        \n",
        "        prediction_text = tokenizer.decode(outputs[0], skip_special_tokens=True)\n",
        "        pred_category = prediction_text.split('Category:')[-1].strip().split()[0] if 'Category:' in prediction_text else \"\"\n",
        "        \n",
        "        actual_category = categories[sample['label']]\n",
        "        \n",
        "        # Simple matching for evaluation\n",
        "        if pred_category.lower() in actual_category.lower() or actual_category.lower() in pred_category.lower():\n",
        "            correct_predictions += 1\n",
        "            predictions.append(1)\n",
        "        else:\n",
        "            predictions.append(0)\n",
        "        actuals.append(sample['label'])\n",
        "        \n",
        "        if i < 3:  # Show first 3 examples\n",
        "            print(f\"Example {i+1}: Actual={actual_category}, Predicted={pred_category}\")\n",
        "    \n",
        "    accuracy = correct_predictions / len(test_sample)\n",
        "    print(f\"{approach_name} Accuracy: {accuracy:.2%} ({correct_predictions}/{len(test_sample)})\")\n",
        "    return accuracy\n",
        "\n",
        "# Evaluate both ICL approaches\n",
        "zero_shot_accuracy = evaluate_icl_approach(prompt_template_news_zero, \"Zero-shot\")\n",
        "few_shot_accuracy = evaluate_icl_approach(prompt_template_news_few, \"Few-shot\")"
      ]
    }
  ],
  "metadata": {
    "accelerator": "GPU",
    "colab": {
      "gpuType": "T4",
      "provenance": []
    },
    "kernelspec": {
      "display_name": ".venv",
      "language": "python",
      "name": "python3"
    },
    "language_info": {
      "codemirror_mode": {
        "name": "ipython",
        "version": 3
      },
      "file_extension": ".py",
      "mimetype": "text/x-python",
      "name": "python",
      "nbconvert_exporter": "python",
      "pygments_lexer": "ipython3",
      "version": "3.10.18"
    },
    "widgets": {
      "application/vnd.jupyter.widget-state+json": {
        "04bdb751863b4dac8642e9260c645a04": {
          "model_module": "@jupyter-widgets/base",
          "model_module_version": "1.2.0",
          "model_name": "LayoutModel",
          "state": {
            "_model_module": "@jupyter-widgets/base",
            "_model_module_version": "1.2.0",
            "_model_name": "LayoutModel",
            "_view_count": null,
            "_view_module": "@jupyter-widgets/base",
            "_view_module_version": "1.2.0",
            "_view_name": "LayoutView",
            "align_content": null,
            "align_items": null,
            "align_self": null,
            "border": null,
            "bottom": null,
            "display": null,
            "flex": null,
            "flex_flow": null,
            "grid_area": null,
            "grid_auto_columns": null,
            "grid_auto_flow": null,
            "grid_auto_rows": null,
            "grid_column": null,
            "grid_gap": null,
            "grid_row": null,
            "grid_template_areas": null,
            "grid_template_columns": null,
            "grid_template_rows": null,
            "height": null,
            "justify_content": null,
            "justify_items": null,
            "left": null,
            "margin": null,
            "max_height": null,
            "max_width": null,
            "min_height": null,
            "min_width": null,
            "object_fit": null,
            "object_position": null,
            "order": null,
            "overflow": null,
            "overflow_x": null,
            "overflow_y": null,
            "padding": null,
            "right": null,
            "top": null,
            "visibility": null,
            "width": null
          }
        },
        "0a7e0bd3d4714f0287857c541f8c17a7": {
          "model_module": "@jupyter-widgets/base",
          "model_module_version": "1.2.0",
          "model_name": "LayoutModel",
          "state": {
            "_model_module": "@jupyter-widgets/base",
            "_model_module_version": "1.2.0",
            "_model_name": "LayoutModel",
            "_view_count": null,
            "_view_module": "@jupyter-widgets/base",
            "_view_module_version": "1.2.0",
            "_view_name": "LayoutView",
            "align_content": null,
            "align_items": null,
            "align_self": null,
            "border": null,
            "bottom": null,
            "display": null,
            "flex": null,
            "flex_flow": null,
            "grid_area": null,
            "grid_auto_columns": null,
            "grid_auto_flow": null,
            "grid_auto_rows": null,
            "grid_column": null,
            "grid_gap": null,
            "grid_row": null,
            "grid_template_areas": null,
            "grid_template_columns": null,
            "grid_template_rows": null,
            "height": null,
            "justify_content": null,
            "justify_items": null,
            "left": null,
            "margin": null,
            "max_height": null,
            "max_width": null,
            "min_height": null,
            "min_width": null,
            "object_fit": null,
            "object_position": null,
            "order": null,
            "overflow": null,
            "overflow_x": null,
            "overflow_y": null,
            "padding": null,
            "right": null,
            "top": null,
            "visibility": null,
            "width": null
          }
        },
        "0b57498534104da6add4a1a0664ee3f4": {
          "model_module": "@jupyter-widgets/base",
          "model_module_version": "1.2.0",
          "model_name": "LayoutModel",
          "state": {
            "_model_module": "@jupyter-widgets/base",
            "_model_module_version": "1.2.0",
            "_model_name": "LayoutModel",
            "_view_count": null,
            "_view_module": "@jupyter-widgets/base",
            "_view_module_version": "1.2.0",
            "_view_name": "LayoutView",
            "align_content": null,
            "align_items": null,
            "align_self": null,
            "border": null,
            "bottom": null,
            "display": null,
            "flex": null,
            "flex_flow": null,
            "grid_area": null,
            "grid_auto_columns": null,
            "grid_auto_flow": null,
            "grid_auto_rows": null,
            "grid_column": null,
            "grid_gap": null,
            "grid_row": null,
            "grid_template_areas": null,
            "grid_template_columns": null,
            "grid_template_rows": null,
            "height": null,
            "justify_content": null,
            "justify_items": null,
            "left": null,
            "margin": null,
            "max_height": null,
            "max_width": null,
            "min_height": null,
            "min_width": null,
            "object_fit": null,
            "object_position": null,
            "order": null,
            "overflow": null,
            "overflow_x": null,
            "overflow_y": null,
            "padding": null,
            "right": null,
            "top": null,
            "visibility": null,
            "width": "20px"
          }
        },
        "0ef55a31320540cea0c5aeb01662ddb7": {
          "model_module": "@jupyter-widgets/controls",
          "model_module_version": "1.5.0",
          "model_name": "HBoxModel",
          "state": {
            "_dom_classes": [],
            "_model_module": "@jupyter-widgets/controls",
            "_model_module_version": "1.5.0",
            "_model_name": "HBoxModel",
            "_view_count": null,
            "_view_module": "@jupyter-widgets/controls",
            "_view_module_version": "1.5.0",
            "_view_name": "HBoxView",
            "box_style": "",
            "children": [
              "IPY_MODEL_2401330e313740498a892cbb140a22b4",
              "IPY_MODEL_ac7ab4dde4f84957a3553479c8ff1866",
              "IPY_MODEL_fa882cd1930b41fb91501a2cab0bcee1"
            ],
            "layout": "IPY_MODEL_f91325ef64874c17a27dc07f49501d8a"
          }
        },
        "10d4351e98234032b0e01c1796a40e23": {
          "model_module": "@jupyter-widgets/controls",
          "model_module_version": "1.5.0",
          "model_name": "HTMLModel",
          "state": {
            "_dom_classes": [],
            "_model_module": "@jupyter-widgets/controls",
            "_model_module_version": "1.5.0",
            "_model_name": "HTMLModel",
            "_view_count": null,
            "_view_module": "@jupyter-widgets/controls",
            "_view_module_version": "1.5.0",
            "_view_name": "HTMLView",
            "description": "",
            "description_tooltip": null,
            "layout": "IPY_MODEL_d720ed2896cd4cf48747bcf067119513",
            "placeholder": "​",
            "style": "IPY_MODEL_ef970a7c1d4d46f5a22f340c10ba2072",
            "value": "merges.txt: "
          }
        },
        "14ebe5b234704338b1469a16489cfffe": {
          "model_module": "@jupyter-widgets/controls",
          "model_module_version": "1.5.0",
          "model_name": "ProgressStyleModel",
          "state": {
            "_model_module": "@jupyter-widgets/controls",
            "_model_module_version": "1.5.0",
            "_model_name": "ProgressStyleModel",
            "_view_count": null,
            "_view_module": "@jupyter-widgets/base",
            "_view_module_version": "1.2.0",
            "_view_name": "StyleView",
            "bar_color": null,
            "description_width": ""
          }
        },
        "17fbc5065960470cac0c8cfc84d9461a": {
          "model_module": "@jupyter-widgets/base",
          "model_module_version": "1.2.0",
          "model_name": "LayoutModel",
          "state": {
            "_model_module": "@jupyter-widgets/base",
            "_model_module_version": "1.2.0",
            "_model_name": "LayoutModel",
            "_view_count": null,
            "_view_module": "@jupyter-widgets/base",
            "_view_module_version": "1.2.0",
            "_view_name": "LayoutView",
            "align_content": null,
            "align_items": null,
            "align_self": null,
            "border": null,
            "bottom": null,
            "display": null,
            "flex": null,
            "flex_flow": null,
            "grid_area": null,
            "grid_auto_columns": null,
            "grid_auto_flow": null,
            "grid_auto_rows": null,
            "grid_column": null,
            "grid_gap": null,
            "grid_row": null,
            "grid_template_areas": null,
            "grid_template_columns": null,
            "grid_template_rows": null,
            "height": null,
            "justify_content": null,
            "justify_items": null,
            "left": null,
            "margin": null,
            "max_height": null,
            "max_width": null,
            "min_height": null,
            "min_width": null,
            "object_fit": null,
            "object_position": null,
            "order": null,
            "overflow": null,
            "overflow_x": null,
            "overflow_y": null,
            "padding": null,
            "right": null,
            "top": null,
            "visibility": null,
            "width": null
          }
        },
        "1b47629558cf486fa403245c57ae5839": {
          "model_module": "@jupyter-widgets/controls",
          "model_module_version": "1.5.0",
          "model_name": "DescriptionStyleModel",
          "state": {
            "_model_module": "@jupyter-widgets/controls",
            "_model_module_version": "1.5.0",
            "_model_name": "DescriptionStyleModel",
            "_view_count": null,
            "_view_module": "@jupyter-widgets/base",
            "_view_module_version": "1.2.0",
            "_view_name": "StyleView",
            "description_width": ""
          }
        },
        "1cbef013696243928b42773d34fac23e": {
          "model_module": "@jupyter-widgets/controls",
          "model_module_version": "1.5.0",
          "model_name": "HTMLModel",
          "state": {
            "_dom_classes": [],
            "_model_module": "@jupyter-widgets/controls",
            "_model_module_version": "1.5.0",
            "_model_name": "HTMLModel",
            "_view_count": null,
            "_view_module": "@jupyter-widgets/controls",
            "_view_module_version": "1.5.0",
            "_view_name": "HTMLView",
            "description": "",
            "description_tooltip": null,
            "layout": "IPY_MODEL_c06632d2513e4102a62186eb83fbb4b8",
            "placeholder": "​",
            "style": "IPY_MODEL_fb659eddc64f43e698deb02e863e077d",
            "value": "model.safetensors: 100%"
          }
        },
        "2401330e313740498a892cbb140a22b4": {
          "model_module": "@jupyter-widgets/controls",
          "model_module_version": "1.5.0",
          "model_name": "HTMLModel",
          "state": {
            "_dom_classes": [],
            "_model_module": "@jupyter-widgets/controls",
            "_model_module_version": "1.5.0",
            "_model_name": "HTMLModel",
            "_view_count": null,
            "_view_module": "@jupyter-widgets/controls",
            "_view_module_version": "1.5.0",
            "_view_name": "HTMLView",
            "description": "",
            "description_tooltip": null,
            "layout": "IPY_MODEL_e7b0e4c6d34c432fb0673375d28a83ef",
            "placeholder": "​",
            "style": "IPY_MODEL_1b47629558cf486fa403245c57ae5839",
            "value": "tokenizer_config.json: "
          }
        },
        "2648d6f5fe304a69a4683acd20e36d40": {
          "model_module": "@jupyter-widgets/base",
          "model_module_version": "1.2.0",
          "model_name": "LayoutModel",
          "state": {
            "_model_module": "@jupyter-widgets/base",
            "_model_module_version": "1.2.0",
            "_model_name": "LayoutModel",
            "_view_count": null,
            "_view_module": "@jupyter-widgets/base",
            "_view_module_version": "1.2.0",
            "_view_name": "LayoutView",
            "align_content": null,
            "align_items": null,
            "align_self": null,
            "border": null,
            "bottom": null,
            "display": null,
            "flex": null,
            "flex_flow": null,
            "grid_area": null,
            "grid_auto_columns": null,
            "grid_auto_flow": null,
            "grid_auto_rows": null,
            "grid_column": null,
            "grid_gap": null,
            "grid_row": null,
            "grid_template_areas": null,
            "grid_template_columns": null,
            "grid_template_rows": null,
            "height": null,
            "justify_content": null,
            "justify_items": null,
            "left": null,
            "margin": null,
            "max_height": null,
            "max_width": null,
            "min_height": null,
            "min_width": null,
            "object_fit": null,
            "object_position": null,
            "order": null,
            "overflow": null,
            "overflow_x": null,
            "overflow_y": null,
            "padding": null,
            "right": null,
            "top": null,
            "visibility": null,
            "width": null
          }
        },
        "2703924e76104d07848497f55da38c3d": {
          "model_module": "@jupyter-widgets/controls",
          "model_module_version": "1.5.0",
          "model_name": "FloatProgressModel",
          "state": {
            "_dom_classes": [],
            "_model_module": "@jupyter-widgets/controls",
            "_model_module_version": "1.5.0",
            "_model_name": "FloatProgressModel",
            "_view_count": null,
            "_view_module": "@jupyter-widgets/controls",
            "_view_module_version": "1.5.0",
            "_view_name": "ProgressView",
            "bar_style": "success",
            "description": "",
            "description_tooltip": null,
            "layout": "IPY_MODEL_f7f7c08b36f842d59dd6d9612eb49e7d",
            "max": 655,
            "min": 0,
            "orientation": "horizontal",
            "style": "IPY_MODEL_3b7ca49477aa486db65cf5951c36da79",
            "value": 655
          }
        },
        "2802a7df085949cebff976564b65272d": {
          "model_module": "@jupyter-widgets/controls",
          "model_module_version": "1.5.0",
          "model_name": "DescriptionStyleModel",
          "state": {
            "_model_module": "@jupyter-widgets/controls",
            "_model_module_version": "1.5.0",
            "_model_name": "DescriptionStyleModel",
            "_view_count": null,
            "_view_module": "@jupyter-widgets/base",
            "_view_module_version": "1.2.0",
            "_view_name": "StyleView",
            "description_width": ""
          }
        },
        "29db11161f994e6a935d25b9ab9e8df0": {
          "model_module": "@jupyter-widgets/controls",
          "model_module_version": "1.5.0",
          "model_name": "HTMLModel",
          "state": {
            "_dom_classes": [],
            "_model_module": "@jupyter-widgets/controls",
            "_model_module_version": "1.5.0",
            "_model_name": "HTMLModel",
            "_view_count": null,
            "_view_module": "@jupyter-widgets/controls",
            "_view_module_version": "1.5.0",
            "_view_name": "HTMLView",
            "description": "",
            "description_tooltip": null,
            "layout": "IPY_MODEL_33d1a3bb2f2a4ad4a8aaa505c2784253",
            "placeholder": "​",
            "style": "IPY_MODEL_fa10017526334ba9a438c8382f0032f0",
            "value": "generation_config.json: 100%"
          }
        },
        "33ab16048f964fd8ae73fb43e33d1ebd": {
          "model_module": "@jupyter-widgets/controls",
          "model_module_version": "1.5.0",
          "model_name": "ProgressStyleModel",
          "state": {
            "_model_module": "@jupyter-widgets/controls",
            "_model_module_version": "1.5.0",
            "_model_name": "ProgressStyleModel",
            "_view_count": null,
            "_view_module": "@jupyter-widgets/base",
            "_view_module_version": "1.2.0",
            "_view_name": "StyleView",
            "bar_color": null,
            "description_width": ""
          }
        },
        "33d1a3bb2f2a4ad4a8aaa505c2784253": {
          "model_module": "@jupyter-widgets/base",
          "model_module_version": "1.2.0",
          "model_name": "LayoutModel",
          "state": {
            "_model_module": "@jupyter-widgets/base",
            "_model_module_version": "1.2.0",
            "_model_name": "LayoutModel",
            "_view_count": null,
            "_view_module": "@jupyter-widgets/base",
            "_view_module_version": "1.2.0",
            "_view_name": "LayoutView",
            "align_content": null,
            "align_items": null,
            "align_self": null,
            "border": null,
            "bottom": null,
            "display": null,
            "flex": null,
            "flex_flow": null,
            "grid_area": null,
            "grid_auto_columns": null,
            "grid_auto_flow": null,
            "grid_auto_rows": null,
            "grid_column": null,
            "grid_gap": null,
            "grid_row": null,
            "grid_template_areas": null,
            "grid_template_columns": null,
            "grid_template_rows": null,
            "height": null,
            "justify_content": null,
            "justify_items": null,
            "left": null,
            "margin": null,
            "max_height": null,
            "max_width": null,
            "min_height": null,
            "min_width": null,
            "object_fit": null,
            "object_position": null,
            "order": null,
            "overflow": null,
            "overflow_x": null,
            "overflow_y": null,
            "padding": null,
            "right": null,
            "top": null,
            "visibility": null,
            "width": null
          }
        },
        "342b1c01cfb444bd84e861d195078a8b": {
          "model_module": "@jupyter-widgets/controls",
          "model_module_version": "1.5.0",
          "model_name": "ProgressStyleModel",
          "state": {
            "_model_module": "@jupyter-widgets/controls",
            "_model_module_version": "1.5.0",
            "_model_name": "ProgressStyleModel",
            "_view_count": null,
            "_view_module": "@jupyter-widgets/base",
            "_view_module_version": "1.2.0",
            "_view_name": "StyleView",
            "bar_color": null,
            "description_width": ""
          }
        },
        "3506971a77834a27a72546bbbe0ab98e": {
          "model_module": "@jupyter-widgets/base",
          "model_module_version": "1.2.0",
          "model_name": "LayoutModel",
          "state": {
            "_model_module": "@jupyter-widgets/base",
            "_model_module_version": "1.2.0",
            "_model_name": "LayoutModel",
            "_view_count": null,
            "_view_module": "@jupyter-widgets/base",
            "_view_module_version": "1.2.0",
            "_view_name": "LayoutView",
            "align_content": null,
            "align_items": null,
            "align_self": null,
            "border": null,
            "bottom": null,
            "display": null,
            "flex": null,
            "flex_flow": null,
            "grid_area": null,
            "grid_auto_columns": null,
            "grid_auto_flow": null,
            "grid_auto_rows": null,
            "grid_column": null,
            "grid_gap": null,
            "grid_row": null,
            "grid_template_areas": null,
            "grid_template_columns": null,
            "grid_template_rows": null,
            "height": null,
            "justify_content": null,
            "justify_items": null,
            "left": null,
            "margin": null,
            "max_height": null,
            "max_width": null,
            "min_height": null,
            "min_width": null,
            "object_fit": null,
            "object_position": null,
            "order": null,
            "overflow": null,
            "overflow_x": null,
            "overflow_y": null,
            "padding": null,
            "right": null,
            "top": null,
            "visibility": null,
            "width": null
          }
        },
        "39119adb98f04069a2a65c41321f9b4f": {
          "model_module": "@jupyter-widgets/controls",
          "model_module_version": "1.5.0",
          "model_name": "HTMLModel",
          "state": {
            "_dom_classes": [],
            "_model_module": "@jupyter-widgets/controls",
            "_model_module_version": "1.5.0",
            "_model_name": "HTMLModel",
            "_view_count": null,
            "_view_module": "@jupyter-widgets/controls",
            "_view_module_version": "1.5.0",
            "_view_name": "HTMLView",
            "description": "",
            "description_tooltip": null,
            "layout": "IPY_MODEL_86f78ac89afb459fb85d9f0ba0d49282",
            "placeholder": "​",
            "style": "IPY_MODEL_bf43429a484c428895c0133fbefcb60f",
            "value": " 2.10M/? [00:00&lt;00:00, 50.9MB/s]"
          }
        },
        "3ad502578bef492cb0b05a4e624e2d9d": {
          "model_module": "@jupyter-widgets/controls",
          "model_module_version": "1.5.0",
          "model_name": "DescriptionStyleModel",
          "state": {
            "_model_module": "@jupyter-widgets/controls",
            "_model_module_version": "1.5.0",
            "_model_name": "DescriptionStyleModel",
            "_view_count": null,
            "_view_module": "@jupyter-widgets/base",
            "_view_module_version": "1.2.0",
            "_view_name": "StyleView",
            "description_width": ""
          }
        },
        "3b7ca49477aa486db65cf5951c36da79": {
          "model_module": "@jupyter-widgets/controls",
          "model_module_version": "1.5.0",
          "model_name": "ProgressStyleModel",
          "state": {
            "_model_module": "@jupyter-widgets/controls",
            "_model_module_version": "1.5.0",
            "_model_name": "ProgressStyleModel",
            "_view_count": null,
            "_view_module": "@jupyter-widgets/base",
            "_view_module_version": "1.2.0",
            "_view_name": "StyleView",
            "bar_color": null,
            "description_width": ""
          }
        },
        "3c662dead0254ba79f568cfd669644f0": {
          "model_module": "@jupyter-widgets/controls",
          "model_module_version": "1.5.0",
          "model_name": "DescriptionStyleModel",
          "state": {
            "_model_module": "@jupyter-widgets/controls",
            "_model_module_version": "1.5.0",
            "_model_name": "DescriptionStyleModel",
            "_view_count": null,
            "_view_module": "@jupyter-widgets/base",
            "_view_module_version": "1.2.0",
            "_view_name": "StyleView",
            "description_width": ""
          }
        },
        "425d75fb48c0422396d3445fbc58ec4e": {
          "model_module": "@jupyter-widgets/controls",
          "model_module_version": "1.5.0",
          "model_name": "FloatProgressModel",
          "state": {
            "_dom_classes": [],
            "_model_module": "@jupyter-widgets/controls",
            "_model_module_version": "1.5.0",
            "_model_name": "FloatProgressModel",
            "_view_count": null,
            "_view_module": "@jupyter-widgets/controls",
            "_view_module_version": "1.5.0",
            "_view_name": "ProgressView",
            "bar_style": "success",
            "description": "",
            "description_tooltip": null,
            "layout": "IPY_MODEL_6f263b31060f44ecbc987dd913fb0c42",
            "max": 1,
            "min": 0,
            "orientation": "horizontal",
            "style": "IPY_MODEL_d17b66f473c9436491305dc8aa9a3414",
            "value": 1
          }
        },
        "44021fb5c408486fa2c79695e6472b9e": {
          "model_module": "@jupyter-widgets/controls",
          "model_module_version": "1.5.0",
          "model_name": "DescriptionStyleModel",
          "state": {
            "_model_module": "@jupyter-widgets/controls",
            "_model_module_version": "1.5.0",
            "_model_name": "DescriptionStyleModel",
            "_view_count": null,
            "_view_module": "@jupyter-widgets/base",
            "_view_module_version": "1.2.0",
            "_view_name": "StyleView",
            "description_width": ""
          }
        },
        "4676e60efc294ba0934cf88605096a3a": {
          "model_module": "@jupyter-widgets/base",
          "model_module_version": "1.2.0",
          "model_name": "LayoutModel",
          "state": {
            "_model_module": "@jupyter-widgets/base",
            "_model_module_version": "1.2.0",
            "_model_name": "LayoutModel",
            "_view_count": null,
            "_view_module": "@jupyter-widgets/base",
            "_view_module_version": "1.2.0",
            "_view_name": "LayoutView",
            "align_content": null,
            "align_items": null,
            "align_self": null,
            "border": null,
            "bottom": null,
            "display": null,
            "flex": null,
            "flex_flow": null,
            "grid_area": null,
            "grid_auto_columns": null,
            "grid_auto_flow": null,
            "grid_auto_rows": null,
            "grid_column": null,
            "grid_gap": null,
            "grid_row": null,
            "grid_template_areas": null,
            "grid_template_columns": null,
            "grid_template_rows": null,
            "height": null,
            "justify_content": null,
            "justify_items": null,
            "left": null,
            "margin": null,
            "max_height": null,
            "max_width": null,
            "min_height": null,
            "min_width": null,
            "object_fit": null,
            "object_position": null,
            "order": null,
            "overflow": null,
            "overflow_x": null,
            "overflow_y": null,
            "padding": null,
            "right": null,
            "top": null,
            "visibility": null,
            "width": null
          }
        },
        "471706b364ac46c695aa159a3ccf41c0": {
          "model_module": "@jupyter-widgets/base",
          "model_module_version": "1.2.0",
          "model_name": "LayoutModel",
          "state": {
            "_model_module": "@jupyter-widgets/base",
            "_model_module_version": "1.2.0",
            "_model_name": "LayoutModel",
            "_view_count": null,
            "_view_module": "@jupyter-widgets/base",
            "_view_module_version": "1.2.0",
            "_view_name": "LayoutView",
            "align_content": null,
            "align_items": null,
            "align_self": null,
            "border": null,
            "bottom": null,
            "display": null,
            "flex": null,
            "flex_flow": null,
            "grid_area": null,
            "grid_auto_columns": null,
            "grid_auto_flow": null,
            "grid_auto_rows": null,
            "grid_column": null,
            "grid_gap": null,
            "grid_row": null,
            "grid_template_areas": null,
            "grid_template_columns": null,
            "grid_template_rows": null,
            "height": null,
            "justify_content": null,
            "justify_items": null,
            "left": null,
            "margin": null,
            "max_height": null,
            "max_width": null,
            "min_height": null,
            "min_width": null,
            "object_fit": null,
            "object_position": null,
            "order": null,
            "overflow": null,
            "overflow_x": null,
            "overflow_y": null,
            "padding": null,
            "right": null,
            "top": null,
            "visibility": null,
            "width": null
          }
        },
        "48a1940021714a9d9080b03c011df9ee": {
          "model_module": "@jupyter-widgets/controls",
          "model_module_version": "1.5.0",
          "model_name": "FloatProgressModel",
          "state": {
            "_dom_classes": [],
            "_model_module": "@jupyter-widgets/controls",
            "_model_module_version": "1.5.0",
            "_model_name": "FloatProgressModel",
            "_view_count": null,
            "_view_module": "@jupyter-widgets/controls",
            "_view_module_version": "1.5.0",
            "_view_name": "ProgressView",
            "bar_style": "success",
            "description": "",
            "description_tooltip": null,
            "layout": "IPY_MODEL_892d28edd5454e27a277a542dda880a0",
            "max": 1,
            "min": 0,
            "orientation": "horizontal",
            "style": "IPY_MODEL_14ebe5b234704338b1469a16489cfffe",
            "value": 1
          }
        },
        "4a0bf08798ce4d7d9fa9f5feccbfad2e": {
          "model_module": "@jupyter-widgets/controls",
          "model_module_version": "1.5.0",
          "model_name": "ProgressStyleModel",
          "state": {
            "_model_module": "@jupyter-widgets/controls",
            "_model_module_version": "1.5.0",
            "_model_name": "ProgressStyleModel",
            "_view_count": null,
            "_view_module": "@jupyter-widgets/base",
            "_view_module_version": "1.2.0",
            "_view_name": "StyleView",
            "bar_color": null,
            "description_width": ""
          }
        },
        "4ae4081531364f1986661baa57c423a7": {
          "model_module": "@jupyter-widgets/base",
          "model_module_version": "1.2.0",
          "model_name": "LayoutModel",
          "state": {
            "_model_module": "@jupyter-widgets/base",
            "_model_module_version": "1.2.0",
            "_model_name": "LayoutModel",
            "_view_count": null,
            "_view_module": "@jupyter-widgets/base",
            "_view_module_version": "1.2.0",
            "_view_name": "LayoutView",
            "align_content": null,
            "align_items": null,
            "align_self": null,
            "border": null,
            "bottom": null,
            "display": null,
            "flex": null,
            "flex_flow": null,
            "grid_area": null,
            "grid_auto_columns": null,
            "grid_auto_flow": null,
            "grid_auto_rows": null,
            "grid_column": null,
            "grid_gap": null,
            "grid_row": null,
            "grid_template_areas": null,
            "grid_template_columns": null,
            "grid_template_rows": null,
            "height": null,
            "justify_content": null,
            "justify_items": null,
            "left": null,
            "margin": null,
            "max_height": null,
            "max_width": null,
            "min_height": null,
            "min_width": null,
            "object_fit": null,
            "object_position": null,
            "order": null,
            "overflow": null,
            "overflow_x": null,
            "overflow_y": null,
            "padding": null,
            "right": null,
            "top": null,
            "visibility": null,
            "width": null
          }
        },
        "4ba66f8d0f8e4e4ea6626916bad7d87f": {
          "model_module": "@jupyter-widgets/base",
          "model_module_version": "1.2.0",
          "model_name": "LayoutModel",
          "state": {
            "_model_module": "@jupyter-widgets/base",
            "_model_module_version": "1.2.0",
            "_model_name": "LayoutModel",
            "_view_count": null,
            "_view_module": "@jupyter-widgets/base",
            "_view_module_version": "1.2.0",
            "_view_name": "LayoutView",
            "align_content": null,
            "align_items": null,
            "align_self": null,
            "border": null,
            "bottom": null,
            "display": null,
            "flex": null,
            "flex_flow": null,
            "grid_area": null,
            "grid_auto_columns": null,
            "grid_auto_flow": null,
            "grid_auto_rows": null,
            "grid_column": null,
            "grid_gap": null,
            "grid_row": null,
            "grid_template_areas": null,
            "grid_template_columns": null,
            "grid_template_rows": null,
            "height": null,
            "justify_content": null,
            "justify_items": null,
            "left": null,
            "margin": null,
            "max_height": null,
            "max_width": null,
            "min_height": null,
            "min_width": null,
            "object_fit": null,
            "object_position": null,
            "order": null,
            "overflow": null,
            "overflow_x": null,
            "overflow_y": null,
            "padding": null,
            "right": null,
            "top": null,
            "visibility": null,
            "width": null
          }
        },
        "4bb0370085de45e2919f93bdadc67ae6": {
          "model_module": "@jupyter-widgets/controls",
          "model_module_version": "1.5.0",
          "model_name": "DescriptionStyleModel",
          "state": {
            "_model_module": "@jupyter-widgets/controls",
            "_model_module_version": "1.5.0",
            "_model_name": "DescriptionStyleModel",
            "_view_count": null,
            "_view_module": "@jupyter-widgets/base",
            "_view_module_version": "1.2.0",
            "_view_name": "StyleView",
            "description_width": ""
          }
        },
        "4c09a3d0041242a886eca8989270c23f": {
          "model_module": "@jupyter-widgets/controls",
          "model_module_version": "1.5.0",
          "model_name": "HBoxModel",
          "state": {
            "_dom_classes": [],
            "_model_module": "@jupyter-widgets/controls",
            "_model_module_version": "1.5.0",
            "_model_name": "HBoxModel",
            "_view_count": null,
            "_view_module": "@jupyter-widgets/controls",
            "_view_module_version": "1.5.0",
            "_view_name": "HBoxView",
            "box_style": "",
            "children": [
              "IPY_MODEL_8df801b8de9341af9ce2111bc286891a",
              "IPY_MODEL_2703924e76104d07848497f55da38c3d",
              "IPY_MODEL_4df9f4f8c6e44b6497ccf136c31c6707"
            ],
            "layout": "IPY_MODEL_74fe99e374374d669ffbde0964cfd4a4"
          }
        },
        "4db2d5f2227940b89506dd57d060ec74": {
          "model_module": "@jupyter-widgets/base",
          "model_module_version": "1.2.0",
          "model_name": "LayoutModel",
          "state": {
            "_model_module": "@jupyter-widgets/base",
            "_model_module_version": "1.2.0",
            "_model_name": "LayoutModel",
            "_view_count": null,
            "_view_module": "@jupyter-widgets/base",
            "_view_module_version": "1.2.0",
            "_view_name": "LayoutView",
            "align_content": null,
            "align_items": null,
            "align_self": null,
            "border": null,
            "bottom": null,
            "display": null,
            "flex": null,
            "flex_flow": null,
            "grid_area": null,
            "grid_auto_columns": null,
            "grid_auto_flow": null,
            "grid_auto_rows": null,
            "grid_column": null,
            "grid_gap": null,
            "grid_row": null,
            "grid_template_areas": null,
            "grid_template_columns": null,
            "grid_template_rows": null,
            "height": null,
            "justify_content": null,
            "justify_items": null,
            "left": null,
            "margin": null,
            "max_height": null,
            "max_width": null,
            "min_height": null,
            "min_width": null,
            "object_fit": null,
            "object_position": null,
            "order": null,
            "overflow": null,
            "overflow_x": null,
            "overflow_y": null,
            "padding": null,
            "right": null,
            "top": null,
            "visibility": null,
            "width": null
          }
        },
        "4df9f4f8c6e44b6497ccf136c31c6707": {
          "model_module": "@jupyter-widgets/controls",
          "model_module_version": "1.5.0",
          "model_name": "HTMLModel",
          "state": {
            "_dom_classes": [],
            "_model_module": "@jupyter-widgets/controls",
            "_model_module_version": "1.5.0",
            "_model_name": "HTMLModel",
            "_view_count": null,
            "_view_module": "@jupyter-widgets/controls",
            "_view_module_version": "1.5.0",
            "_view_name": "HTMLView",
            "description": "",
            "description_tooltip": null,
            "layout": "IPY_MODEL_4db2d5f2227940b89506dd57d060ec74",
            "placeholder": "​",
            "style": "IPY_MODEL_eb75102b20f548108baf5c0bf5e75962",
            "value": " 655/655 [00:00&lt;00:00, 57.8kB/s]"
          }
        },
        "4fd462dc1b69494689f5b76669de5d2f": {
          "model_module": "@jupyter-widgets/controls",
          "model_module_version": "1.5.0",
          "model_name": "HTMLModel",
          "state": {
            "_dom_classes": [],
            "_model_module": "@jupyter-widgets/controls",
            "_model_module_version": "1.5.0",
            "_model_name": "HTMLModel",
            "_view_count": null,
            "_view_module": "@jupyter-widgets/controls",
            "_view_module_version": "1.5.0",
            "_view_name": "HTMLView",
            "description": "",
            "description_tooltip": null,
            "layout": "IPY_MODEL_4ae4081531364f1986661baa57c423a7",
            "placeholder": "​",
            "style": "IPY_MODEL_3ad502578bef492cb0b05a4e624e2d9d",
            "value": "vocab.json: "
          }
        },
        "52b0ece06dec4c4aaf891fecde4b0dd2": {
          "model_module": "@jupyter-widgets/controls",
          "model_module_version": "1.5.0",
          "model_name": "DescriptionStyleModel",
          "state": {
            "_model_module": "@jupyter-widgets/controls",
            "_model_module_version": "1.5.0",
            "_model_name": "DescriptionStyleModel",
            "_view_count": null,
            "_view_module": "@jupyter-widgets/base",
            "_view_module_version": "1.2.0",
            "_view_name": "StyleView",
            "description_width": ""
          }
        },
        "52d9012287b24d13a422df615ec566a5": {
          "model_module": "@jupyter-widgets/controls",
          "model_module_version": "1.5.0",
          "model_name": "DescriptionStyleModel",
          "state": {
            "_model_module": "@jupyter-widgets/controls",
            "_model_module_version": "1.5.0",
            "_model_name": "DescriptionStyleModel",
            "_view_count": null,
            "_view_module": "@jupyter-widgets/base",
            "_view_module_version": "1.2.0",
            "_view_name": "StyleView",
            "description_width": ""
          }
        },
        "559bc80b9fc4413b85cc1c88078a54a9": {
          "model_module": "@jupyter-widgets/controls",
          "model_module_version": "1.5.0",
          "model_name": "ProgressStyleModel",
          "state": {
            "_model_module": "@jupyter-widgets/controls",
            "_model_module_version": "1.5.0",
            "_model_name": "ProgressStyleModel",
            "_view_count": null,
            "_view_module": "@jupyter-widgets/base",
            "_view_module_version": "1.2.0",
            "_view_name": "StyleView",
            "bar_color": null,
            "description_width": ""
          }
        },
        "57c7f3301605424e9aca5ca0cbfe99e3": {
          "model_module": "@jupyter-widgets/controls",
          "model_module_version": "1.5.0",
          "model_name": "HTMLModel",
          "state": {
            "_dom_classes": [],
            "_model_module": "@jupyter-widgets/controls",
            "_model_module_version": "1.5.0",
            "_model_name": "HTMLModel",
            "_view_count": null,
            "_view_module": "@jupyter-widgets/controls",
            "_view_module_version": "1.5.0",
            "_view_name": "HTMLView",
            "description": "",
            "description_tooltip": null,
            "layout": "IPY_MODEL_e4f9ba56bb054620ad193dc479652e83",
            "placeholder": "​",
            "style": "IPY_MODEL_2802a7df085949cebff976564b65272d",
            "value": " 801k/? [00:00&lt;00:00, 20.0MB/s]"
          }
        },
        "5a3b677337034bac933782a06a0636c3": {
          "model_module": "@jupyter-widgets/base",
          "model_module_version": "1.2.0",
          "model_name": "LayoutModel",
          "state": {
            "_model_module": "@jupyter-widgets/base",
            "_model_module_version": "1.2.0",
            "_model_name": "LayoutModel",
            "_view_count": null,
            "_view_module": "@jupyter-widgets/base",
            "_view_module_version": "1.2.0",
            "_view_name": "LayoutView",
            "align_content": null,
            "align_items": null,
            "align_self": null,
            "border": null,
            "bottom": null,
            "display": null,
            "flex": null,
            "flex_flow": null,
            "grid_area": null,
            "grid_auto_columns": null,
            "grid_auto_flow": null,
            "grid_auto_rows": null,
            "grid_column": null,
            "grid_gap": null,
            "grid_row": null,
            "grid_template_areas": null,
            "grid_template_columns": null,
            "grid_template_rows": null,
            "height": null,
            "justify_content": null,
            "justify_items": null,
            "left": null,
            "margin": null,
            "max_height": null,
            "max_width": null,
            "min_height": null,
            "min_width": null,
            "object_fit": null,
            "object_position": null,
            "order": null,
            "overflow": null,
            "overflow_x": null,
            "overflow_y": null,
            "padding": null,
            "right": null,
            "top": null,
            "visibility": null,
            "width": null
          }
        },
        "5bd18f9f45a44301842e61dcb2744c7c": {
          "model_module": "@jupyter-widgets/controls",
          "model_module_version": "1.5.0",
          "model_name": "HBoxModel",
          "state": {
            "_dom_classes": [],
            "_model_module": "@jupyter-widgets/controls",
            "_model_module_version": "1.5.0",
            "_model_name": "HBoxModel",
            "_view_count": null,
            "_view_module": "@jupyter-widgets/controls",
            "_view_module_version": "1.5.0",
            "_view_name": "HBoxView",
            "box_style": "",
            "children": [
              "IPY_MODEL_1cbef013696243928b42773d34fac23e",
              "IPY_MODEL_8d1e0e5907704240b566036b77c56b92",
              "IPY_MODEL_addcb7eeef7a4f94bf54cc7597155e57"
            ],
            "layout": "IPY_MODEL_841691db37254e538463c4fb70899806"
          }
        },
        "62961704b62a495c9611d0ce29120a1a": {
          "model_module": "@jupyter-widgets/base",
          "model_module_version": "1.2.0",
          "model_name": "LayoutModel",
          "state": {
            "_model_module": "@jupyter-widgets/base",
            "_model_module_version": "1.2.0",
            "_model_name": "LayoutModel",
            "_view_count": null,
            "_view_module": "@jupyter-widgets/base",
            "_view_module_version": "1.2.0",
            "_view_name": "LayoutView",
            "align_content": null,
            "align_items": null,
            "align_self": null,
            "border": null,
            "bottom": null,
            "display": null,
            "flex": null,
            "flex_flow": null,
            "grid_area": null,
            "grid_auto_columns": null,
            "grid_auto_flow": null,
            "grid_auto_rows": null,
            "grid_column": null,
            "grid_gap": null,
            "grid_row": null,
            "grid_template_areas": null,
            "grid_template_columns": null,
            "grid_template_rows": null,
            "height": null,
            "justify_content": null,
            "justify_items": null,
            "left": null,
            "margin": null,
            "max_height": null,
            "max_width": null,
            "min_height": null,
            "min_width": null,
            "object_fit": null,
            "object_position": null,
            "order": null,
            "overflow": null,
            "overflow_x": null,
            "overflow_y": null,
            "padding": null,
            "right": null,
            "top": null,
            "visibility": null,
            "width": "20px"
          }
        },
        "6852d134962742fa8043e7f2c72e2d7e": {
          "model_module": "@jupyter-widgets/controls",
          "model_module_version": "1.5.0",
          "model_name": "HBoxModel",
          "state": {
            "_dom_classes": [],
            "_model_module": "@jupyter-widgets/controls",
            "_model_module_version": "1.5.0",
            "_model_name": "HBoxModel",
            "_view_count": null,
            "_view_module": "@jupyter-widgets/controls",
            "_view_module_version": "1.5.0",
            "_view_name": "HBoxView",
            "box_style": "",
            "children": [
              "IPY_MODEL_c2298642b5784c7298321666c8efe8b3",
              "IPY_MODEL_68743f4c997f438382d0cb4bac952f7a",
              "IPY_MODEL_87f0838be9014801a4fcaa3a79eeedbd"
            ],
            "layout": "IPY_MODEL_d04a8bbb8cfd44d69dafba5c584b9dc9"
          }
        },
        "68743f4c997f438382d0cb4bac952f7a": {
          "model_module": "@jupyter-widgets/controls",
          "model_module_version": "1.5.0",
          "model_name": "FloatProgressModel",
          "state": {
            "_dom_classes": [],
            "_model_module": "@jupyter-widgets/controls",
            "_model_module_version": "1.5.0",
            "_model_name": "FloatProgressModel",
            "_view_count": null,
            "_view_module": "@jupyter-widgets/controls",
            "_view_module_version": "1.5.0",
            "_view_name": "ProgressView",
            "bar_style": "success",
            "description": "",
            "description_tooltip": null,
            "layout": "IPY_MODEL_04bdb751863b4dac8642e9260c645a04",
            "max": 861,
            "min": 0,
            "orientation": "horizontal",
            "style": "IPY_MODEL_342b1c01cfb444bd84e861d195078a8b",
            "value": 861
          }
        },
        "6f263b31060f44ecbc987dd913fb0c42": {
          "model_module": "@jupyter-widgets/base",
          "model_module_version": "1.2.0",
          "model_name": "LayoutModel",
          "state": {
            "_model_module": "@jupyter-widgets/base",
            "_model_module_version": "1.2.0",
            "_model_name": "LayoutModel",
            "_view_count": null,
            "_view_module": "@jupyter-widgets/base",
            "_view_module_version": "1.2.0",
            "_view_name": "LayoutView",
            "align_content": null,
            "align_items": null,
            "align_self": null,
            "border": null,
            "bottom": null,
            "display": null,
            "flex": null,
            "flex_flow": null,
            "grid_area": null,
            "grid_auto_columns": null,
            "grid_auto_flow": null,
            "grid_auto_rows": null,
            "grid_column": null,
            "grid_gap": null,
            "grid_row": null,
            "grid_template_areas": null,
            "grid_template_columns": null,
            "grid_template_rows": null,
            "height": null,
            "justify_content": null,
            "justify_items": null,
            "left": null,
            "margin": null,
            "max_height": null,
            "max_width": null,
            "min_height": null,
            "min_width": null,
            "object_fit": null,
            "object_position": null,
            "order": null,
            "overflow": null,
            "overflow_x": null,
            "overflow_y": null,
            "padding": null,
            "right": null,
            "top": null,
            "visibility": null,
            "width": "20px"
          }
        },
        "743dcdbc4e924c3d839a6cfcaa815e97": {
          "model_module": "@jupyter-widgets/controls",
          "model_module_version": "1.5.0",
          "model_name": "HTMLModel",
          "state": {
            "_dom_classes": [],
            "_model_module": "@jupyter-widgets/controls",
            "_model_module_version": "1.5.0",
            "_model_name": "HTMLModel",
            "_view_count": null,
            "_view_module": "@jupyter-widgets/controls",
            "_view_module_version": "1.5.0",
            "_view_name": "HTMLView",
            "description": "",
            "description_tooltip": null,
            "layout": "IPY_MODEL_acfaf573eb2c4b6b88f019c2099b8a04",
            "placeholder": "​",
            "style": "IPY_MODEL_3c662dead0254ba79f568cfd669644f0",
            "value": " 466k/? [00:00&lt;00:00, 12.5MB/s]"
          }
        },
        "74fe99e374374d669ffbde0964cfd4a4": {
          "model_module": "@jupyter-widgets/base",
          "model_module_version": "1.2.0",
          "model_name": "LayoutModel",
          "state": {
            "_model_module": "@jupyter-widgets/base",
            "_model_module_version": "1.2.0",
            "_model_name": "LayoutModel",
            "_view_count": null,
            "_view_module": "@jupyter-widgets/base",
            "_view_module_version": "1.2.0",
            "_view_name": "LayoutView",
            "align_content": null,
            "align_items": null,
            "align_self": null,
            "border": null,
            "bottom": null,
            "display": null,
            "flex": null,
            "flex_flow": null,
            "grid_area": null,
            "grid_auto_columns": null,
            "grid_auto_flow": null,
            "grid_auto_rows": null,
            "grid_column": null,
            "grid_gap": null,
            "grid_row": null,
            "grid_template_areas": null,
            "grid_template_columns": null,
            "grid_template_rows": null,
            "height": null,
            "justify_content": null,
            "justify_items": null,
            "left": null,
            "margin": null,
            "max_height": null,
            "max_width": null,
            "min_height": null,
            "min_width": null,
            "object_fit": null,
            "object_position": null,
            "order": null,
            "overflow": null,
            "overflow_x": null,
            "overflow_y": null,
            "padding": null,
            "right": null,
            "top": null,
            "visibility": null,
            "width": null
          }
        },
        "77c60737b516497bbd0b95d0bacb691f": {
          "model_module": "@jupyter-widgets/controls",
          "model_module_version": "1.5.0",
          "model_name": "FloatProgressModel",
          "state": {
            "_dom_classes": [],
            "_model_module": "@jupyter-widgets/controls",
            "_model_module_version": "1.5.0",
            "_model_name": "FloatProgressModel",
            "_view_count": null,
            "_view_module": "@jupyter-widgets/controls",
            "_view_module_version": "1.5.0",
            "_view_name": "ProgressView",
            "bar_style": "success",
            "description": "",
            "description_tooltip": null,
            "layout": "IPY_MODEL_5a3b677337034bac933782a06a0636c3",
            "max": 132,
            "min": 0,
            "orientation": "horizontal",
            "style": "IPY_MODEL_4a0bf08798ce4d7d9fa9f5feccbfad2e",
            "value": 132
          }
        },
        "841691db37254e538463c4fb70899806": {
          "model_module": "@jupyter-widgets/base",
          "model_module_version": "1.2.0",
          "model_name": "LayoutModel",
          "state": {
            "_model_module": "@jupyter-widgets/base",
            "_model_module_version": "1.2.0",
            "_model_name": "LayoutModel",
            "_view_count": null,
            "_view_module": "@jupyter-widgets/base",
            "_view_module_version": "1.2.0",
            "_view_name": "LayoutView",
            "align_content": null,
            "align_items": null,
            "align_self": null,
            "border": null,
            "bottom": null,
            "display": null,
            "flex": null,
            "flex_flow": null,
            "grid_area": null,
            "grid_auto_columns": null,
            "grid_auto_flow": null,
            "grid_auto_rows": null,
            "grid_column": null,
            "grid_gap": null,
            "grid_row": null,
            "grid_template_areas": null,
            "grid_template_columns": null,
            "grid_template_rows": null,
            "height": null,
            "justify_content": null,
            "justify_items": null,
            "left": null,
            "margin": null,
            "max_height": null,
            "max_width": null,
            "min_height": null,
            "min_width": null,
            "object_fit": null,
            "object_position": null,
            "order": null,
            "overflow": null,
            "overflow_x": null,
            "overflow_y": null,
            "padding": null,
            "right": null,
            "top": null,
            "visibility": null,
            "width": null
          }
        },
        "86f78ac89afb459fb85d9f0ba0d49282": {
          "model_module": "@jupyter-widgets/base",
          "model_module_version": "1.2.0",
          "model_name": "LayoutModel",
          "state": {
            "_model_module": "@jupyter-widgets/base",
            "_model_module_version": "1.2.0",
            "_model_name": "LayoutModel",
            "_view_count": null,
            "_view_module": "@jupyter-widgets/base",
            "_view_module_version": "1.2.0",
            "_view_name": "LayoutView",
            "align_content": null,
            "align_items": null,
            "align_self": null,
            "border": null,
            "bottom": null,
            "display": null,
            "flex": null,
            "flex_flow": null,
            "grid_area": null,
            "grid_auto_columns": null,
            "grid_auto_flow": null,
            "grid_auto_rows": null,
            "grid_column": null,
            "grid_gap": null,
            "grid_row": null,
            "grid_template_areas": null,
            "grid_template_columns": null,
            "grid_template_rows": null,
            "height": null,
            "justify_content": null,
            "justify_items": null,
            "left": null,
            "margin": null,
            "max_height": null,
            "max_width": null,
            "min_height": null,
            "min_width": null,
            "object_fit": null,
            "object_position": null,
            "order": null,
            "overflow": null,
            "overflow_x": null,
            "overflow_y": null,
            "padding": null,
            "right": null,
            "top": null,
            "visibility": null,
            "width": null
          }
        },
        "87f0838be9014801a4fcaa3a79eeedbd": {
          "model_module": "@jupyter-widgets/controls",
          "model_module_version": "1.5.0",
          "model_name": "HTMLModel",
          "state": {
            "_dom_classes": [],
            "_model_module": "@jupyter-widgets/controls",
            "_model_module_version": "1.5.0",
            "_model_name": "HTMLModel",
            "_view_count": null,
            "_view_module": "@jupyter-widgets/controls",
            "_view_module_version": "1.5.0",
            "_view_name": "HTMLView",
            "description": "",
            "description_tooltip": null,
            "layout": "IPY_MODEL_4ba66f8d0f8e4e4ea6626916bad7d87f",
            "placeholder": "​",
            "style": "IPY_MODEL_44021fb5c408486fa2c79695e6472b9e",
            "value": " 861/861 [00:00&lt;00:00, 109kB/s]"
          }
        },
        "892d28edd5454e27a277a542dda880a0": {
          "model_module": "@jupyter-widgets/base",
          "model_module_version": "1.2.0",
          "model_name": "LayoutModel",
          "state": {
            "_model_module": "@jupyter-widgets/base",
            "_model_module_version": "1.2.0",
            "_model_name": "LayoutModel",
            "_view_count": null,
            "_view_module": "@jupyter-widgets/base",
            "_view_module_version": "1.2.0",
            "_view_name": "LayoutView",
            "align_content": null,
            "align_items": null,
            "align_self": null,
            "border": null,
            "bottom": null,
            "display": null,
            "flex": null,
            "flex_flow": null,
            "grid_area": null,
            "grid_auto_columns": null,
            "grid_auto_flow": null,
            "grid_auto_rows": null,
            "grid_column": null,
            "grid_gap": null,
            "grid_row": null,
            "grid_template_areas": null,
            "grid_template_columns": null,
            "grid_template_rows": null,
            "height": null,
            "justify_content": null,
            "justify_items": null,
            "left": null,
            "margin": null,
            "max_height": null,
            "max_width": null,
            "min_height": null,
            "min_width": null,
            "object_fit": null,
            "object_position": null,
            "order": null,
            "overflow": null,
            "overflow_x": null,
            "overflow_y": null,
            "padding": null,
            "right": null,
            "top": null,
            "visibility": null,
            "width": "20px"
          }
        },
        "8d1e0e5907704240b566036b77c56b92": {
          "model_module": "@jupyter-widgets/controls",
          "model_module_version": "1.5.0",
          "model_name": "FloatProgressModel",
          "state": {
            "_dom_classes": [],
            "_model_module": "@jupyter-widgets/controls",
            "_model_module_version": "1.5.0",
            "_model_name": "FloatProgressModel",
            "_view_count": null,
            "_view_module": "@jupyter-widgets/controls",
            "_view_module_version": "1.5.0",
            "_view_name": "ProgressView",
            "bar_style": "success",
            "description": "",
            "description_tooltip": null,
            "layout": "IPY_MODEL_0a7e0bd3d4714f0287857c541f8c17a7",
            "max": 269060552,
            "min": 0,
            "orientation": "horizontal",
            "style": "IPY_MODEL_33ab16048f964fd8ae73fb43e33d1ebd",
            "value": 269060552
          }
        },
        "8df801b8de9341af9ce2111bc286891a": {
          "model_module": "@jupyter-widgets/controls",
          "model_module_version": "1.5.0",
          "model_name": "HTMLModel",
          "state": {
            "_dom_classes": [],
            "_model_module": "@jupyter-widgets/controls",
            "_model_module_version": "1.5.0",
            "_model_name": "HTMLModel",
            "_view_count": null,
            "_view_module": "@jupyter-widgets/controls",
            "_view_module_version": "1.5.0",
            "_view_name": "HTMLView",
            "description": "",
            "description_tooltip": null,
            "layout": "IPY_MODEL_17fbc5065960470cac0c8cfc84d9461a",
            "placeholder": "​",
            "style": "IPY_MODEL_f6bdd04b024f4d43b726aa4dd666521b",
            "value": "special_tokens_map.json: 100%"
          }
        },
        "977a46c8aabb4d1c9da1c2068a958b64": {
          "model_module": "@jupyter-widgets/controls",
          "model_module_version": "1.5.0",
          "model_name": "HBoxModel",
          "state": {
            "_dom_classes": [],
            "_model_module": "@jupyter-widgets/controls",
            "_model_module_version": "1.5.0",
            "_model_name": "HBoxModel",
            "_view_count": null,
            "_view_module": "@jupyter-widgets/controls",
            "_view_module_version": "1.5.0",
            "_view_name": "HBoxView",
            "box_style": "",
            "children": [
              "IPY_MODEL_10d4351e98234032b0e01c1796a40e23",
              "IPY_MODEL_d605242e1be245c081c3d42208936444",
              "IPY_MODEL_743dcdbc4e924c3d839a6cfcaa815e97"
            ],
            "layout": "IPY_MODEL_f06e50e90aba4853806b804e3e290eb0"
          }
        },
        "ac7ab4dde4f84957a3553479c8ff1866": {
          "model_module": "@jupyter-widgets/controls",
          "model_module_version": "1.5.0",
          "model_name": "FloatProgressModel",
          "state": {
            "_dom_classes": [],
            "_model_module": "@jupyter-widgets/controls",
            "_model_module_version": "1.5.0",
            "_model_name": "FloatProgressModel",
            "_view_count": null,
            "_view_module": "@jupyter-widgets/controls",
            "_view_module_version": "1.5.0",
            "_view_name": "ProgressView",
            "bar_style": "success",
            "description": "",
            "description_tooltip": null,
            "layout": "IPY_MODEL_0b57498534104da6add4a1a0664ee3f4",
            "max": 1,
            "min": 0,
            "orientation": "horizontal",
            "style": "IPY_MODEL_559bc80b9fc4413b85cc1c88078a54a9",
            "value": 1
          }
        },
        "acfaf573eb2c4b6b88f019c2099b8a04": {
          "model_module": "@jupyter-widgets/base",
          "model_module_version": "1.2.0",
          "model_name": "LayoutModel",
          "state": {
            "_model_module": "@jupyter-widgets/base",
            "_model_module_version": "1.2.0",
            "_model_name": "LayoutModel",
            "_view_count": null,
            "_view_module": "@jupyter-widgets/base",
            "_view_module_version": "1.2.0",
            "_view_name": "LayoutView",
            "align_content": null,
            "align_items": null,
            "align_self": null,
            "border": null,
            "bottom": null,
            "display": null,
            "flex": null,
            "flex_flow": null,
            "grid_area": null,
            "grid_auto_columns": null,
            "grid_auto_flow": null,
            "grid_auto_rows": null,
            "grid_column": null,
            "grid_gap": null,
            "grid_row": null,
            "grid_template_areas": null,
            "grid_template_columns": null,
            "grid_template_rows": null,
            "height": null,
            "justify_content": null,
            "justify_items": null,
            "left": null,
            "margin": null,
            "max_height": null,
            "max_width": null,
            "min_height": null,
            "min_width": null,
            "object_fit": null,
            "object_position": null,
            "order": null,
            "overflow": null,
            "overflow_x": null,
            "overflow_y": null,
            "padding": null,
            "right": null,
            "top": null,
            "visibility": null,
            "width": null
          }
        },
        "addcb7eeef7a4f94bf54cc7597155e57": {
          "model_module": "@jupyter-widgets/controls",
          "model_module_version": "1.5.0",
          "model_name": "HTMLModel",
          "state": {
            "_dom_classes": [],
            "_model_module": "@jupyter-widgets/controls",
            "_model_module_version": "1.5.0",
            "_model_name": "HTMLModel",
            "_view_count": null,
            "_view_module": "@jupyter-widgets/controls",
            "_view_module_version": "1.5.0",
            "_view_name": "HTMLView",
            "description": "",
            "description_tooltip": null,
            "layout": "IPY_MODEL_3506971a77834a27a72546bbbe0ab98e",
            "placeholder": "​",
            "style": "IPY_MODEL_b092e315a9354a0f9c75191a6d4fc5d6",
            "value": " 269M/269M [00:05&lt;00:00, 65.4MB/s]"
          }
        },
        "ae757aa5df8c4e14b465ea22441b7948": {
          "model_module": "@jupyter-widgets/controls",
          "model_module_version": "1.5.0",
          "model_name": "DescriptionStyleModel",
          "state": {
            "_model_module": "@jupyter-widgets/controls",
            "_model_module_version": "1.5.0",
            "_model_name": "DescriptionStyleModel",
            "_view_count": null,
            "_view_module": "@jupyter-widgets/base",
            "_view_module_version": "1.2.0",
            "_view_name": "StyleView",
            "description_width": ""
          }
        },
        "b092e315a9354a0f9c75191a6d4fc5d6": {
          "model_module": "@jupyter-widgets/controls",
          "model_module_version": "1.5.0",
          "model_name": "DescriptionStyleModel",
          "state": {
            "_model_module": "@jupyter-widgets/controls",
            "_model_module_version": "1.5.0",
            "_model_name": "DescriptionStyleModel",
            "_view_count": null,
            "_view_module": "@jupyter-widgets/base",
            "_view_module_version": "1.2.0",
            "_view_name": "StyleView",
            "description_width": ""
          }
        },
        "b75ff3cf03664a448af04fd303d676e1": {
          "model_module": "@jupyter-widgets/base",
          "model_module_version": "1.2.0",
          "model_name": "LayoutModel",
          "state": {
            "_model_module": "@jupyter-widgets/base",
            "_model_module_version": "1.2.0",
            "_model_name": "LayoutModel",
            "_view_count": null,
            "_view_module": "@jupyter-widgets/base",
            "_view_module_version": "1.2.0",
            "_view_name": "LayoutView",
            "align_content": null,
            "align_items": null,
            "align_self": null,
            "border": null,
            "bottom": null,
            "display": null,
            "flex": null,
            "flex_flow": null,
            "grid_area": null,
            "grid_auto_columns": null,
            "grid_auto_flow": null,
            "grid_auto_rows": null,
            "grid_column": null,
            "grid_gap": null,
            "grid_row": null,
            "grid_template_areas": null,
            "grid_template_columns": null,
            "grid_template_rows": null,
            "height": null,
            "justify_content": null,
            "justify_items": null,
            "left": null,
            "margin": null,
            "max_height": null,
            "max_width": null,
            "min_height": null,
            "min_width": null,
            "object_fit": null,
            "object_position": null,
            "order": null,
            "overflow": null,
            "overflow_x": null,
            "overflow_y": null,
            "padding": null,
            "right": null,
            "top": null,
            "visibility": null,
            "width": null
          }
        },
        "b8fad636684d4671b1f7524311f5bc02": {
          "model_module": "@jupyter-widgets/controls",
          "model_module_version": "1.5.0",
          "model_name": "HTMLModel",
          "state": {
            "_dom_classes": [],
            "_model_module": "@jupyter-widgets/controls",
            "_model_module_version": "1.5.0",
            "_model_name": "HTMLModel",
            "_view_count": null,
            "_view_module": "@jupyter-widgets/controls",
            "_view_module_version": "1.5.0",
            "_view_name": "HTMLView",
            "description": "",
            "description_tooltip": null,
            "layout": "IPY_MODEL_4676e60efc294ba0934cf88605096a3a",
            "placeholder": "​",
            "style": "IPY_MODEL_52d9012287b24d13a422df615ec566a5",
            "value": "tokenizer.json: "
          }
        },
        "bc245771075c4475809e7e6f8c61f0d7": {
          "model_module": "@jupyter-widgets/controls",
          "model_module_version": "1.5.0",
          "model_name": "HTMLModel",
          "state": {
            "_dom_classes": [],
            "_model_module": "@jupyter-widgets/controls",
            "_model_module_version": "1.5.0",
            "_model_name": "HTMLModel",
            "_view_count": null,
            "_view_module": "@jupyter-widgets/controls",
            "_view_module_version": "1.5.0",
            "_view_name": "HTMLView",
            "description": "",
            "description_tooltip": null,
            "layout": "IPY_MODEL_ef0b1813c04041b4af77ea9044725c17",
            "placeholder": "​",
            "style": "IPY_MODEL_ae757aa5df8c4e14b465ea22441b7948",
            "value": " 132/132 [00:00&lt;00:00, 12.9kB/s]"
          }
        },
        "bf43429a484c428895c0133fbefcb60f": {
          "model_module": "@jupyter-widgets/controls",
          "model_module_version": "1.5.0",
          "model_name": "DescriptionStyleModel",
          "state": {
            "_model_module": "@jupyter-widgets/controls",
            "_model_module_version": "1.5.0",
            "_model_name": "DescriptionStyleModel",
            "_view_count": null,
            "_view_module": "@jupyter-widgets/base",
            "_view_module_version": "1.2.0",
            "_view_name": "StyleView",
            "description_width": ""
          }
        },
        "c06632d2513e4102a62186eb83fbb4b8": {
          "model_module": "@jupyter-widgets/base",
          "model_module_version": "1.2.0",
          "model_name": "LayoutModel",
          "state": {
            "_model_module": "@jupyter-widgets/base",
            "_model_module_version": "1.2.0",
            "_model_name": "LayoutModel",
            "_view_count": null,
            "_view_module": "@jupyter-widgets/base",
            "_view_module_version": "1.2.0",
            "_view_name": "LayoutView",
            "align_content": null,
            "align_items": null,
            "align_self": null,
            "border": null,
            "bottom": null,
            "display": null,
            "flex": null,
            "flex_flow": null,
            "grid_area": null,
            "grid_auto_columns": null,
            "grid_auto_flow": null,
            "grid_auto_rows": null,
            "grid_column": null,
            "grid_gap": null,
            "grid_row": null,
            "grid_template_areas": null,
            "grid_template_columns": null,
            "grid_template_rows": null,
            "height": null,
            "justify_content": null,
            "justify_items": null,
            "left": null,
            "margin": null,
            "max_height": null,
            "max_width": null,
            "min_height": null,
            "min_width": null,
            "object_fit": null,
            "object_position": null,
            "order": null,
            "overflow": null,
            "overflow_x": null,
            "overflow_y": null,
            "padding": null,
            "right": null,
            "top": null,
            "visibility": null,
            "width": null
          }
        },
        "c2298642b5784c7298321666c8efe8b3": {
          "model_module": "@jupyter-widgets/controls",
          "model_module_version": "1.5.0",
          "model_name": "HTMLModel",
          "state": {
            "_dom_classes": [],
            "_model_module": "@jupyter-widgets/controls",
            "_model_module_version": "1.5.0",
            "_model_name": "HTMLModel",
            "_view_count": null,
            "_view_module": "@jupyter-widgets/controls",
            "_view_module_version": "1.5.0",
            "_view_name": "HTMLView",
            "description": "",
            "description_tooltip": null,
            "layout": "IPY_MODEL_471706b364ac46c695aa159a3ccf41c0",
            "placeholder": "​",
            "style": "IPY_MODEL_52b0ece06dec4c4aaf891fecde4b0dd2",
            "value": "config.json: 100%"
          }
        },
        "c99977657eac4f05bf03965b81b648b2": {
          "model_module": "@jupyter-widgets/controls",
          "model_module_version": "1.5.0",
          "model_name": "HBoxModel",
          "state": {
            "_dom_classes": [],
            "_model_module": "@jupyter-widgets/controls",
            "_model_module_version": "1.5.0",
            "_model_name": "HBoxModel",
            "_view_count": null,
            "_view_module": "@jupyter-widgets/controls",
            "_view_module_version": "1.5.0",
            "_view_name": "HBoxView",
            "box_style": "",
            "children": [
              "IPY_MODEL_b8fad636684d4671b1f7524311f5bc02",
              "IPY_MODEL_425d75fb48c0422396d3445fbc58ec4e",
              "IPY_MODEL_39119adb98f04069a2a65c41321f9b4f"
            ],
            "layout": "IPY_MODEL_2648d6f5fe304a69a4683acd20e36d40"
          }
        },
        "d04a8bbb8cfd44d69dafba5c584b9dc9": {
          "model_module": "@jupyter-widgets/base",
          "model_module_version": "1.2.0",
          "model_name": "LayoutModel",
          "state": {
            "_model_module": "@jupyter-widgets/base",
            "_model_module_version": "1.2.0",
            "_model_name": "LayoutModel",
            "_view_count": null,
            "_view_module": "@jupyter-widgets/base",
            "_view_module_version": "1.2.0",
            "_view_name": "LayoutView",
            "align_content": null,
            "align_items": null,
            "align_self": null,
            "border": null,
            "bottom": null,
            "display": null,
            "flex": null,
            "flex_flow": null,
            "grid_area": null,
            "grid_auto_columns": null,
            "grid_auto_flow": null,
            "grid_auto_rows": null,
            "grid_column": null,
            "grid_gap": null,
            "grid_row": null,
            "grid_template_areas": null,
            "grid_template_columns": null,
            "grid_template_rows": null,
            "height": null,
            "justify_content": null,
            "justify_items": null,
            "left": null,
            "margin": null,
            "max_height": null,
            "max_width": null,
            "min_height": null,
            "min_width": null,
            "object_fit": null,
            "object_position": null,
            "order": null,
            "overflow": null,
            "overflow_x": null,
            "overflow_y": null,
            "padding": null,
            "right": null,
            "top": null,
            "visibility": null,
            "width": null
          }
        },
        "d17b66f473c9436491305dc8aa9a3414": {
          "model_module": "@jupyter-widgets/controls",
          "model_module_version": "1.5.0",
          "model_name": "ProgressStyleModel",
          "state": {
            "_model_module": "@jupyter-widgets/controls",
            "_model_module_version": "1.5.0",
            "_model_name": "ProgressStyleModel",
            "_view_count": null,
            "_view_module": "@jupyter-widgets/base",
            "_view_module_version": "1.2.0",
            "_view_name": "StyleView",
            "bar_color": null,
            "description_width": ""
          }
        },
        "d605242e1be245c081c3d42208936444": {
          "model_module": "@jupyter-widgets/controls",
          "model_module_version": "1.5.0",
          "model_name": "FloatProgressModel",
          "state": {
            "_dom_classes": [],
            "_model_module": "@jupyter-widgets/controls",
            "_model_module_version": "1.5.0",
            "_model_name": "FloatProgressModel",
            "_view_count": null,
            "_view_module": "@jupyter-widgets/controls",
            "_view_module_version": "1.5.0",
            "_view_name": "ProgressView",
            "bar_style": "success",
            "description": "",
            "description_tooltip": null,
            "layout": "IPY_MODEL_62961704b62a495c9611d0ce29120a1a",
            "max": 1,
            "min": 0,
            "orientation": "horizontal",
            "style": "IPY_MODEL_d74d4f619a3c492ba579a50a663634f4",
            "value": 1
          }
        },
        "d720ed2896cd4cf48747bcf067119513": {
          "model_module": "@jupyter-widgets/base",
          "model_module_version": "1.2.0",
          "model_name": "LayoutModel",
          "state": {
            "_model_module": "@jupyter-widgets/base",
            "_model_module_version": "1.2.0",
            "_model_name": "LayoutModel",
            "_view_count": null,
            "_view_module": "@jupyter-widgets/base",
            "_view_module_version": "1.2.0",
            "_view_name": "LayoutView",
            "align_content": null,
            "align_items": null,
            "align_self": null,
            "border": null,
            "bottom": null,
            "display": null,
            "flex": null,
            "flex_flow": null,
            "grid_area": null,
            "grid_auto_columns": null,
            "grid_auto_flow": null,
            "grid_auto_rows": null,
            "grid_column": null,
            "grid_gap": null,
            "grid_row": null,
            "grid_template_areas": null,
            "grid_template_columns": null,
            "grid_template_rows": null,
            "height": null,
            "justify_content": null,
            "justify_items": null,
            "left": null,
            "margin": null,
            "max_height": null,
            "max_width": null,
            "min_height": null,
            "min_width": null,
            "object_fit": null,
            "object_position": null,
            "order": null,
            "overflow": null,
            "overflow_x": null,
            "overflow_y": null,
            "padding": null,
            "right": null,
            "top": null,
            "visibility": null,
            "width": null
          }
        },
        "d74d4f619a3c492ba579a50a663634f4": {
          "model_module": "@jupyter-widgets/controls",
          "model_module_version": "1.5.0",
          "model_name": "ProgressStyleModel",
          "state": {
            "_model_module": "@jupyter-widgets/controls",
            "_model_module_version": "1.5.0",
            "_model_name": "ProgressStyleModel",
            "_view_count": null,
            "_view_module": "@jupyter-widgets/base",
            "_view_module_version": "1.2.0",
            "_view_name": "StyleView",
            "bar_color": null,
            "description_width": ""
          }
        },
        "e095b002437a47d691e671494178a2c0": {
          "model_module": "@jupyter-widgets/controls",
          "model_module_version": "1.5.0",
          "model_name": "HBoxModel",
          "state": {
            "_dom_classes": [],
            "_model_module": "@jupyter-widgets/controls",
            "_model_module_version": "1.5.0",
            "_model_name": "HBoxModel",
            "_view_count": null,
            "_view_module": "@jupyter-widgets/controls",
            "_view_module_version": "1.5.0",
            "_view_name": "HBoxView",
            "box_style": "",
            "children": [
              "IPY_MODEL_29db11161f994e6a935d25b9ab9e8df0",
              "IPY_MODEL_77c60737b516497bbd0b95d0bacb691f",
              "IPY_MODEL_bc245771075c4475809e7e6f8c61f0d7"
            ],
            "layout": "IPY_MODEL_b75ff3cf03664a448af04fd303d676e1"
          }
        },
        "e4f9ba56bb054620ad193dc479652e83": {
          "model_module": "@jupyter-widgets/base",
          "model_module_version": "1.2.0",
          "model_name": "LayoutModel",
          "state": {
            "_model_module": "@jupyter-widgets/base",
            "_model_module_version": "1.2.0",
            "_model_name": "LayoutModel",
            "_view_count": null,
            "_view_module": "@jupyter-widgets/base",
            "_view_module_version": "1.2.0",
            "_view_name": "LayoutView",
            "align_content": null,
            "align_items": null,
            "align_self": null,
            "border": null,
            "bottom": null,
            "display": null,
            "flex": null,
            "flex_flow": null,
            "grid_area": null,
            "grid_auto_columns": null,
            "grid_auto_flow": null,
            "grid_auto_rows": null,
            "grid_column": null,
            "grid_gap": null,
            "grid_row": null,
            "grid_template_areas": null,
            "grid_template_columns": null,
            "grid_template_rows": null,
            "height": null,
            "justify_content": null,
            "justify_items": null,
            "left": null,
            "margin": null,
            "max_height": null,
            "max_width": null,
            "min_height": null,
            "min_width": null,
            "object_fit": null,
            "object_position": null,
            "order": null,
            "overflow": null,
            "overflow_x": null,
            "overflow_y": null,
            "padding": null,
            "right": null,
            "top": null,
            "visibility": null,
            "width": null
          }
        },
        "e7b0e4c6d34c432fb0673375d28a83ef": {
          "model_module": "@jupyter-widgets/base",
          "model_module_version": "1.2.0",
          "model_name": "LayoutModel",
          "state": {
            "_model_module": "@jupyter-widgets/base",
            "_model_module_version": "1.2.0",
            "_model_name": "LayoutModel",
            "_view_count": null,
            "_view_module": "@jupyter-widgets/base",
            "_view_module_version": "1.2.0",
            "_view_name": "LayoutView",
            "align_content": null,
            "align_items": null,
            "align_self": null,
            "border": null,
            "bottom": null,
            "display": null,
            "flex": null,
            "flex_flow": null,
            "grid_area": null,
            "grid_auto_columns": null,
            "grid_auto_flow": null,
            "grid_auto_rows": null,
            "grid_column": null,
            "grid_gap": null,
            "grid_row": null,
            "grid_template_areas": null,
            "grid_template_columns": null,
            "grid_template_rows": null,
            "height": null,
            "justify_content": null,
            "justify_items": null,
            "left": null,
            "margin": null,
            "max_height": null,
            "max_width": null,
            "min_height": null,
            "min_width": null,
            "object_fit": null,
            "object_position": null,
            "order": null,
            "overflow": null,
            "overflow_x": null,
            "overflow_y": null,
            "padding": null,
            "right": null,
            "top": null,
            "visibility": null,
            "width": null
          }
        },
        "eb75102b20f548108baf5c0bf5e75962": {
          "model_module": "@jupyter-widgets/controls",
          "model_module_version": "1.5.0",
          "model_name": "DescriptionStyleModel",
          "state": {
            "_model_module": "@jupyter-widgets/controls",
            "_model_module_version": "1.5.0",
            "_model_name": "DescriptionStyleModel",
            "_view_count": null,
            "_view_module": "@jupyter-widgets/base",
            "_view_module_version": "1.2.0",
            "_view_name": "StyleView",
            "description_width": ""
          }
        },
        "ef0b1813c04041b4af77ea9044725c17": {
          "model_module": "@jupyter-widgets/base",
          "model_module_version": "1.2.0",
          "model_name": "LayoutModel",
          "state": {
            "_model_module": "@jupyter-widgets/base",
            "_model_module_version": "1.2.0",
            "_model_name": "LayoutModel",
            "_view_count": null,
            "_view_module": "@jupyter-widgets/base",
            "_view_module_version": "1.2.0",
            "_view_name": "LayoutView",
            "align_content": null,
            "align_items": null,
            "align_self": null,
            "border": null,
            "bottom": null,
            "display": null,
            "flex": null,
            "flex_flow": null,
            "grid_area": null,
            "grid_auto_columns": null,
            "grid_auto_flow": null,
            "grid_auto_rows": null,
            "grid_column": null,
            "grid_gap": null,
            "grid_row": null,
            "grid_template_areas": null,
            "grid_template_columns": null,
            "grid_template_rows": null,
            "height": null,
            "justify_content": null,
            "justify_items": null,
            "left": null,
            "margin": null,
            "max_height": null,
            "max_width": null,
            "min_height": null,
            "min_width": null,
            "object_fit": null,
            "object_position": null,
            "order": null,
            "overflow": null,
            "overflow_x": null,
            "overflow_y": null,
            "padding": null,
            "right": null,
            "top": null,
            "visibility": null,
            "width": null
          }
        },
        "ef970a7c1d4d46f5a22f340c10ba2072": {
          "model_module": "@jupyter-widgets/controls",
          "model_module_version": "1.5.0",
          "model_name": "DescriptionStyleModel",
          "state": {
            "_model_module": "@jupyter-widgets/controls",
            "_model_module_version": "1.5.0",
            "_model_name": "DescriptionStyleModel",
            "_view_count": null,
            "_view_module": "@jupyter-widgets/base",
            "_view_module_version": "1.2.0",
            "_view_name": "StyleView",
            "description_width": ""
          }
        },
        "f06e50e90aba4853806b804e3e290eb0": {
          "model_module": "@jupyter-widgets/base",
          "model_module_version": "1.2.0",
          "model_name": "LayoutModel",
          "state": {
            "_model_module": "@jupyter-widgets/base",
            "_model_module_version": "1.2.0",
            "_model_name": "LayoutModel",
            "_view_count": null,
            "_view_module": "@jupyter-widgets/base",
            "_view_module_version": "1.2.0",
            "_view_name": "LayoutView",
            "align_content": null,
            "align_items": null,
            "align_self": null,
            "border": null,
            "bottom": null,
            "display": null,
            "flex": null,
            "flex_flow": null,
            "grid_area": null,
            "grid_auto_columns": null,
            "grid_auto_flow": null,
            "grid_auto_rows": null,
            "grid_column": null,
            "grid_gap": null,
            "grid_row": null,
            "grid_template_areas": null,
            "grid_template_columns": null,
            "grid_template_rows": null,
            "height": null,
            "justify_content": null,
            "justify_items": null,
            "left": null,
            "margin": null,
            "max_height": null,
            "max_width": null,
            "min_height": null,
            "min_width": null,
            "object_fit": null,
            "object_position": null,
            "order": null,
            "overflow": null,
            "overflow_x": null,
            "overflow_y": null,
            "padding": null,
            "right": null,
            "top": null,
            "visibility": null,
            "width": null
          }
        },
        "f5c062c97de04b5d915aafe8973d153c": {
          "model_module": "@jupyter-widgets/controls",
          "model_module_version": "1.5.0",
          "model_name": "HBoxModel",
          "state": {
            "_dom_classes": [],
            "_model_module": "@jupyter-widgets/controls",
            "_model_module_version": "1.5.0",
            "_model_name": "HBoxModel",
            "_view_count": null,
            "_view_module": "@jupyter-widgets/controls",
            "_view_module_version": "1.5.0",
            "_view_name": "HBoxView",
            "box_style": "",
            "children": [
              "IPY_MODEL_4fd462dc1b69494689f5b76669de5d2f",
              "IPY_MODEL_48a1940021714a9d9080b03c011df9ee",
              "IPY_MODEL_57c7f3301605424e9aca5ca0cbfe99e3"
            ],
            "layout": "IPY_MODEL_fe16f3058cf542a89a1bd6aab9a36b8a"
          }
        },
        "f6bdd04b024f4d43b726aa4dd666521b": {
          "model_module": "@jupyter-widgets/controls",
          "model_module_version": "1.5.0",
          "model_name": "DescriptionStyleModel",
          "state": {
            "_model_module": "@jupyter-widgets/controls",
            "_model_module_version": "1.5.0",
            "_model_name": "DescriptionStyleModel",
            "_view_count": null,
            "_view_module": "@jupyter-widgets/base",
            "_view_module_version": "1.2.0",
            "_view_name": "StyleView",
            "description_width": ""
          }
        },
        "f7f7c08b36f842d59dd6d9612eb49e7d": {
          "model_module": "@jupyter-widgets/base",
          "model_module_version": "1.2.0",
          "model_name": "LayoutModel",
          "state": {
            "_model_module": "@jupyter-widgets/base",
            "_model_module_version": "1.2.0",
            "_model_name": "LayoutModel",
            "_view_count": null,
            "_view_module": "@jupyter-widgets/base",
            "_view_module_version": "1.2.0",
            "_view_name": "LayoutView",
            "align_content": null,
            "align_items": null,
            "align_self": null,
            "border": null,
            "bottom": null,
            "display": null,
            "flex": null,
            "flex_flow": null,
            "grid_area": null,
            "grid_auto_columns": null,
            "grid_auto_flow": null,
            "grid_auto_rows": null,
            "grid_column": null,
            "grid_gap": null,
            "grid_row": null,
            "grid_template_areas": null,
            "grid_template_columns": null,
            "grid_template_rows": null,
            "height": null,
            "justify_content": null,
            "justify_items": null,
            "left": null,
            "margin": null,
            "max_height": null,
            "max_width": null,
            "min_height": null,
            "min_width": null,
            "object_fit": null,
            "object_position": null,
            "order": null,
            "overflow": null,
            "overflow_x": null,
            "overflow_y": null,
            "padding": null,
            "right": null,
            "top": null,
            "visibility": null,
            "width": null
          }
        },
        "f91325ef64874c17a27dc07f49501d8a": {
          "model_module": "@jupyter-widgets/base",
          "model_module_version": "1.2.0",
          "model_name": "LayoutModel",
          "state": {
            "_model_module": "@jupyter-widgets/base",
            "_model_module_version": "1.2.0",
            "_model_name": "LayoutModel",
            "_view_count": null,
            "_view_module": "@jupyter-widgets/base",
            "_view_module_version": "1.2.0",
            "_view_name": "LayoutView",
            "align_content": null,
            "align_items": null,
            "align_self": null,
            "border": null,
            "bottom": null,
            "display": null,
            "flex": null,
            "flex_flow": null,
            "grid_area": null,
            "grid_auto_columns": null,
            "grid_auto_flow": null,
            "grid_auto_rows": null,
            "grid_column": null,
            "grid_gap": null,
            "grid_row": null,
            "grid_template_areas": null,
            "grid_template_columns": null,
            "grid_template_rows": null,
            "height": null,
            "justify_content": null,
            "justify_items": null,
            "left": null,
            "margin": null,
            "max_height": null,
            "max_width": null,
            "min_height": null,
            "min_width": null,
            "object_fit": null,
            "object_position": null,
            "order": null,
            "overflow": null,
            "overflow_x": null,
            "overflow_y": null,
            "padding": null,
            "right": null,
            "top": null,
            "visibility": null,
            "width": null
          }
        },
        "fa10017526334ba9a438c8382f0032f0": {
          "model_module": "@jupyter-widgets/controls",
          "model_module_version": "1.5.0",
          "model_name": "DescriptionStyleModel",
          "state": {
            "_model_module": "@jupyter-widgets/controls",
            "_model_module_version": "1.5.0",
            "_model_name": "DescriptionStyleModel",
            "_view_count": null,
            "_view_module": "@jupyter-widgets/base",
            "_view_module_version": "1.2.0",
            "_view_name": "StyleView",
            "description_width": ""
          }
        },
        "fa882cd1930b41fb91501a2cab0bcee1": {
          "model_module": "@jupyter-widgets/controls",
          "model_module_version": "1.5.0",
          "model_name": "HTMLModel",
          "state": {
            "_dom_classes": [],
            "_model_module": "@jupyter-widgets/controls",
            "_model_module_version": "1.5.0",
            "_model_name": "HTMLModel",
            "_view_count": null,
            "_view_module": "@jupyter-widgets/controls",
            "_view_module_version": "1.5.0",
            "_view_name": "HTMLView",
            "description": "",
            "description_tooltip": null,
            "layout": "IPY_MODEL_fc16ad48ccd24bddbfcf0923b9837d97",
            "placeholder": "​",
            "style": "IPY_MODEL_4bb0370085de45e2919f93bdadc67ae6",
            "value": " 3.76k/? [00:00&lt;00:00, 155kB/s]"
          }
        },
        "fb659eddc64f43e698deb02e863e077d": {
          "model_module": "@jupyter-widgets/controls",
          "model_module_version": "1.5.0",
          "model_name": "DescriptionStyleModel",
          "state": {
            "_model_module": "@jupyter-widgets/controls",
            "_model_module_version": "1.5.0",
            "_model_name": "DescriptionStyleModel",
            "_view_count": null,
            "_view_module": "@jupyter-widgets/base",
            "_view_module_version": "1.2.0",
            "_view_name": "StyleView",
            "description_width": ""
          }
        },
        "fc16ad48ccd24bddbfcf0923b9837d97": {
          "model_module": "@jupyter-widgets/base",
          "model_module_version": "1.2.0",
          "model_name": "LayoutModel",
          "state": {
            "_model_module": "@jupyter-widgets/base",
            "_model_module_version": "1.2.0",
            "_model_name": "LayoutModel",
            "_view_count": null,
            "_view_module": "@jupyter-widgets/base",
            "_view_module_version": "1.2.0",
            "_view_name": "LayoutView",
            "align_content": null,
            "align_items": null,
            "align_self": null,
            "border": null,
            "bottom": null,
            "display": null,
            "flex": null,
            "flex_flow": null,
            "grid_area": null,
            "grid_auto_columns": null,
            "grid_auto_flow": null,
            "grid_auto_rows": null,
            "grid_column": null,
            "grid_gap": null,
            "grid_row": null,
            "grid_template_areas": null,
            "grid_template_columns": null,
            "grid_template_rows": null,
            "height": null,
            "justify_content": null,
            "justify_items": null,
            "left": null,
            "margin": null,
            "max_height": null,
            "max_width": null,
            "min_height": null,
            "min_width": null,
            "object_fit": null,
            "object_position": null,
            "order": null,
            "overflow": null,
            "overflow_x": null,
            "overflow_y": null,
            "padding": null,
            "right": null,
            "top": null,
            "visibility": null,
            "width": null
          }
        },
        "fe16f3058cf542a89a1bd6aab9a36b8a": {
          "model_module": "@jupyter-widgets/base",
          "model_module_version": "1.2.0",
          "model_name": "LayoutModel",
          "state": {
            "_model_module": "@jupyter-widgets/base",
            "_model_module_version": "1.2.0",
            "_model_name": "LayoutModel",
            "_view_count": null,
            "_view_module": "@jupyter-widgets/base",
            "_view_module_version": "1.2.0",
            "_view_name": "LayoutView",
            "align_content": null,
            "align_items": null,
            "align_self": null,
            "border": null,
            "bottom": null,
            "display": null,
            "flex": null,
            "flex_flow": null,
            "grid_area": null,
            "grid_auto_columns": null,
            "grid_auto_flow": null,
            "grid_auto_rows": null,
            "grid_column": null,
            "grid_gap": null,
            "grid_row": null,
            "grid_template_areas": null,
            "grid_template_columns": null,
            "grid_template_rows": null,
            "height": null,
            "justify_content": null,
            "justify_items": null,
            "left": null,
            "margin": null,
            "max_height": null,
            "max_width": null,
            "min_height": null,
            "min_width": null,
            "object_fit": null,
            "object_position": null,
            "order": null,
            "overflow": null,
            "overflow_x": null,
            "overflow_y": null,
            "padding": null,
            "right": null,
            "top": null,
            "visibility": null,
            "width": null
          }
        }
      }
    }
  },
  "nbformat": 4,
  "nbformat_minor": 0
}
